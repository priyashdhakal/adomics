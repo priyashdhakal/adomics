{
 "cells": [
  {
   "cell_type": "code",
   "execution_count": 18,
   "metadata": {},
   "outputs": [
    {
     "data": {
      "text/plain": [
       "<torch._C.Generator at 0x7f482401d550>"
      ]
     },
     "execution_count": 18,
     "metadata": {},
     "output_type": "execute_result"
    }
   ],
   "source": [
    "import pandas as pd\n",
    "import numpy as np\n",
    "import torch\n",
    "import torch.nn as nn\n",
    "import torch.optim as optim\n",
    "import torch.nn.functional as F\n",
    "from torch_geometric.nn import GCNConv\n",
    "from torch_geometric.data import DataLoader\n",
    "from torch_geometric.data import Data\n",
    "import tqdm\n",
    "import torch_geometric\n",
    "# set random seed \n",
    "np.random.seed(0)\n",
    "torch.manual_seed(0)"
   ]
  },
  {
   "cell_type": "code",
   "execution_count": 2,
   "metadata": {},
   "outputs": [],
   "source": [
    "mrna = '/home/dhakal/MoBI/data/ROSMAP/mrna.csv'"
   ]
  },
  {
   "cell_type": "code",
   "execution_count": 3,
   "metadata": {},
   "outputs": [
    {
     "name": "stdout",
     "output_type": "stream",
     "text": [
      "Label\n",
      "1.0    182\n",
      "0.0    169\n",
      "Name: count, dtype: int64\n",
      "<class 'torch.Tensor'>\n",
      "(351, 200)\n"
     ]
    }
   ],
   "source": [
    "mrna_data_ori = pd.read_csv(mrna, index_col=0)\n",
    "print(mrna_data_ori['Label'].value_counts())\n",
    "\n",
    "# train_idx = mrna_data_ori['Split'] == 1.0\n",
    "# test_idx = mrna_data_ori['Split'] == 0.0\n",
    "# train_idx = train_idx.reshape(-1, 1)\n",
    "# test_idx = test_idx.reshape(-1, 1)\n",
    "# print(train_idx.shape, test_idx.shape)\n",
    "y = mrna_data_ori['Label'].values\n",
    "y = torch.tensor(y,dtype = torch.int64)\n",
    "print(type(y))\n",
    "#drop the columns Split and label\n",
    "mrna_data = mrna_data_ori.drop(columns=['Split', 'Label'])\n",
    "print(mrna_data.shape)\n",
    "# print(y)"
   ]
  },
  {
   "cell_type": "code",
   "execution_count": 4,
   "metadata": {},
   "outputs": [
    {
     "data": {
      "text/html": [
       "<div>\n",
       "<style scoped>\n",
       "    .dataframe tbody tr th:only-of-type {\n",
       "        vertical-align: middle;\n",
       "    }\n",
       "\n",
       "    .dataframe tbody tr th {\n",
       "        vertical-align: top;\n",
       "    }\n",
       "\n",
       "    .dataframe thead th {\n",
       "        text-align: right;\n",
       "    }\n",
       "</style>\n",
       "<table border=\"1\" class=\"dataframe\">\n",
       "  <thead>\n",
       "    <tr style=\"text-align: right;\">\n",
       "      <th></th>\n",
       "      <th>hsa-let-7b</th>\n",
       "      <th>hsa-let-7e</th>\n",
       "      <th>hsa-let-7f</th>\n",
       "      <th>hsa-let-7g</th>\n",
       "      <th>hsa-let-7i</th>\n",
       "      <th>hsa-miR-1</th>\n",
       "      <th>hsa-miR-9</th>\n",
       "      <th>hsa-miR-10a</th>\n",
       "      <th>hsa-miR-10b</th>\n",
       "      <th>hsa-miR-15a</th>\n",
       "      <th>...</th>\n",
       "      <th>hcmv-miR-UL70-3p</th>\n",
       "      <th>hsv1-miR-H1</th>\n",
       "      <th>hsv1-miR-H3</th>\n",
       "      <th>hsv1-miR-H8</th>\n",
       "      <th>kshv-miR-K12-2</th>\n",
       "      <th>kshv-miR-K12-4-5p</th>\n",
       "      <th>kshv-miR-K12-9</th>\n",
       "      <th>mcv-miR-M1-5p</th>\n",
       "      <th>Label</th>\n",
       "      <th>Split</th>\n",
       "    </tr>\n",
       "  </thead>\n",
       "  <tbody>\n",
       "    <tr>\n",
       "      <th>1</th>\n",
       "      <td>0.814405</td>\n",
       "      <td>0.737390</td>\n",
       "      <td>0.750965</td>\n",
       "      <td>0.826721</td>\n",
       "      <td>0.732031</td>\n",
       "      <td>0.509505</td>\n",
       "      <td>0.941783</td>\n",
       "      <td>0.383358</td>\n",
       "      <td>0.237087</td>\n",
       "      <td>0.689845</td>\n",
       "      <td>...</td>\n",
       "      <td>0.269750</td>\n",
       "      <td>0.197881</td>\n",
       "      <td>0.201138</td>\n",
       "      <td>0.224232</td>\n",
       "      <td>0.225317</td>\n",
       "      <td>0.315773</td>\n",
       "      <td>0.337299</td>\n",
       "      <td>0.275999</td>\n",
       "      <td>0.0</td>\n",
       "      <td>1.0</td>\n",
       "    </tr>\n",
       "    <tr>\n",
       "      <th>2</th>\n",
       "      <td>0.833053</td>\n",
       "      <td>0.745852</td>\n",
       "      <td>0.784690</td>\n",
       "      <td>0.833627</td>\n",
       "      <td>0.748797</td>\n",
       "      <td>0.554802</td>\n",
       "      <td>0.939369</td>\n",
       "      <td>0.405352</td>\n",
       "      <td>0.302349</td>\n",
       "      <td>0.677308</td>\n",
       "      <td>...</td>\n",
       "      <td>0.269379</td>\n",
       "      <td>0.222585</td>\n",
       "      <td>0.247331</td>\n",
       "      <td>0.176573</td>\n",
       "      <td>0.163122</td>\n",
       "      <td>0.250090</td>\n",
       "      <td>0.365844</td>\n",
       "      <td>0.331535</td>\n",
       "      <td>1.0</td>\n",
       "      <td>1.0</td>\n",
       "    </tr>\n",
       "    <tr>\n",
       "      <th>3</th>\n",
       "      <td>0.783300</td>\n",
       "      <td>0.729652</td>\n",
       "      <td>0.726530</td>\n",
       "      <td>0.832673</td>\n",
       "      <td>0.718069</td>\n",
       "      <td>0.444093</td>\n",
       "      <td>0.945906</td>\n",
       "      <td>0.346858</td>\n",
       "      <td>0.272595</td>\n",
       "      <td>0.686201</td>\n",
       "      <td>...</td>\n",
       "      <td>0.315306</td>\n",
       "      <td>0.263122</td>\n",
       "      <td>0.269576</td>\n",
       "      <td>0.340817</td>\n",
       "      <td>0.252720</td>\n",
       "      <td>0.356404</td>\n",
       "      <td>0.393057</td>\n",
       "      <td>0.302595</td>\n",
       "      <td>1.0</td>\n",
       "      <td>1.0</td>\n",
       "    </tr>\n",
       "    <tr>\n",
       "      <th>4</th>\n",
       "      <td>0.806268</td>\n",
       "      <td>0.726243</td>\n",
       "      <td>0.737167</td>\n",
       "      <td>0.838364</td>\n",
       "      <td>0.747425</td>\n",
       "      <td>0.530010</td>\n",
       "      <td>0.951981</td>\n",
       "      <td>0.344363</td>\n",
       "      <td>0.287244</td>\n",
       "      <td>0.709395</td>\n",
       "      <td>...</td>\n",
       "      <td>0.274718</td>\n",
       "      <td>0.240122</td>\n",
       "      <td>0.210502</td>\n",
       "      <td>0.244531</td>\n",
       "      <td>0.277194</td>\n",
       "      <td>0.336700</td>\n",
       "      <td>0.344629</td>\n",
       "      <td>0.297727</td>\n",
       "      <td>0.0</td>\n",
       "      <td>1.0</td>\n",
       "    </tr>\n",
       "    <tr>\n",
       "      <th>5</th>\n",
       "      <td>0.803373</td>\n",
       "      <td>0.739387</td>\n",
       "      <td>0.752465</td>\n",
       "      <td>0.821804</td>\n",
       "      <td>0.715556</td>\n",
       "      <td>0.482546</td>\n",
       "      <td>0.927272</td>\n",
       "      <td>0.350344</td>\n",
       "      <td>0.243749</td>\n",
       "      <td>0.673377</td>\n",
       "      <td>...</td>\n",
       "      <td>0.270051</td>\n",
       "      <td>0.170695</td>\n",
       "      <td>0.247333</td>\n",
       "      <td>0.248524</td>\n",
       "      <td>0.217929</td>\n",
       "      <td>0.242820</td>\n",
       "      <td>0.346970</td>\n",
       "      <td>0.381820</td>\n",
       "      <td>0.0</td>\n",
       "      <td>1.0</td>\n",
       "    </tr>\n",
       "  </tbody>\n",
       "</table>\n",
       "<p>5 rows × 202 columns</p>\n",
       "</div>"
      ],
      "text/plain": [
       "   hsa-let-7b  hsa-let-7e  hsa-let-7f  hsa-let-7g  hsa-let-7i  hsa-miR-1  \\\n",
       "1    0.814405    0.737390    0.750965    0.826721    0.732031   0.509505   \n",
       "2    0.833053    0.745852    0.784690    0.833627    0.748797   0.554802   \n",
       "3    0.783300    0.729652    0.726530    0.832673    0.718069   0.444093   \n",
       "4    0.806268    0.726243    0.737167    0.838364    0.747425   0.530010   \n",
       "5    0.803373    0.739387    0.752465    0.821804    0.715556   0.482546   \n",
       "\n",
       "   hsa-miR-9  hsa-miR-10a  hsa-miR-10b  hsa-miR-15a  ...  hcmv-miR-UL70-3p  \\\n",
       "1   0.941783     0.383358     0.237087     0.689845  ...          0.269750   \n",
       "2   0.939369     0.405352     0.302349     0.677308  ...          0.269379   \n",
       "3   0.945906     0.346858     0.272595     0.686201  ...          0.315306   \n",
       "4   0.951981     0.344363     0.287244     0.709395  ...          0.274718   \n",
       "5   0.927272     0.350344     0.243749     0.673377  ...          0.270051   \n",
       "\n",
       "   hsv1-miR-H1  hsv1-miR-H3  hsv1-miR-H8  kshv-miR-K12-2  kshv-miR-K12-4-5p  \\\n",
       "1     0.197881     0.201138     0.224232        0.225317           0.315773   \n",
       "2     0.222585     0.247331     0.176573        0.163122           0.250090   \n",
       "3     0.263122     0.269576     0.340817        0.252720           0.356404   \n",
       "4     0.240122     0.210502     0.244531        0.277194           0.336700   \n",
       "5     0.170695     0.247333     0.248524        0.217929           0.242820   \n",
       "\n",
       "   kshv-miR-K12-9  mcv-miR-M1-5p  Label  Split  \n",
       "1        0.337299       0.275999    0.0    1.0  \n",
       "2        0.365844       0.331535    1.0    1.0  \n",
       "3        0.393057       0.302595    1.0    1.0  \n",
       "4        0.344629       0.297727    0.0    1.0  \n",
       "5        0.346970       0.381820    0.0    1.0  \n",
       "\n",
       "[5 rows x 202 columns]"
      ]
     },
     "execution_count": 4,
     "metadata": {},
     "output_type": "execute_result"
    }
   ],
   "source": [
    "mrna_data_ori.head()"
   ]
  },
  {
   "cell_type": "code",
   "execution_count": 5,
   "metadata": {},
   "outputs": [],
   "source": [
    "train_test = mrna_data_ori['Split'].values\n",
    "train_idx = train_test == 1.0\n",
    "test_idx = train_test == 0.0"
   ]
  },
  {
   "cell_type": "code",
   "execution_count": 6,
   "metadata": {},
   "outputs": [],
   "source": [
    "def cal_co_expression_similarity(data):\n",
    "    corr_matrix = np.abs(np.corrcoef(data))\n",
    "    co_expression_similarity = np.abs(corr_matrix)\n",
    "    return co_expression_similarity"
   ]
  },
  {
   "cell_type": "code",
   "execution_count": 7,
   "metadata": {},
   "outputs": [
    {
     "data": {
      "text/plain": [
       "(200, 200)"
      ]
     },
     "execution_count": 7,
     "metadata": {},
     "output_type": "execute_result"
    }
   ],
   "source": [
    "cal_co_expression_similarity(mrna_data.T).shape"
   ]
  },
  {
   "cell_type": "code",
   "execution_count": 8,
   "metadata": {},
   "outputs": [],
   "source": [
    "def calculate_unweighted_adjacency(expression_profiles, threshold):\n",
    "    # Calculate pairwise correlation coefficients\n",
    "    correlation_matrix = torch.abs(torch.corrcoef(expression_profiles))\n",
    "    \n",
    "    # Apply hard thresholding\n",
    "    adjacency_matrix = torch.where(correlation_matrix > threshold, torch.tensor(1), torch.tensor(0))\n",
    "    \n",
    "    return adjacency_matrix"
   ]
  },
  {
   "cell_type": "code",
   "execution_count": 9,
   "metadata": {},
   "outputs": [],
   "source": [
    "def calculate_weighted_adjacency(expression_profiles, beta):\n",
    "    # Calculate pairwise correlation coefficients\n",
    "    correlation_matrix = torch.corrcoef(expression_profiles)\n",
    "    \n",
    "    # Apply weighted transformation\n",
    "    adjacency_matrix = correlation_matrix ** beta\n",
    "    \n",
    "    return adjacency_matrix"
   ]
  },
  {
   "cell_type": "code",
   "execution_count": 10,
   "metadata": {},
   "outputs": [
    {
     "name": "stdout",
     "output_type": "stream",
     "text": [
      "Expression similarity matrix:\n",
      "torch.Size([200, 200])\n",
      "Unweighted adjacency matrix:\n",
      "torch.Size([200, 200])\n",
      "\n",
      "Weighted adjacency matrix:\n",
      "torch.Size([200, 200])\n"
     ]
    }
   ],
   "source": [
    "threshold = 0.2\n",
    "beta = 6\n",
    "mrna_data_tensor = torch.tensor(mrna_data.values.T, dtype=torch.float32)\n",
    "expression_similarity = cal_co_expression_similarity(mrna_data.T)\n",
    "expression_similarity = torch.tensor(expression_similarity, dtype=torch.float32)\n",
    "\n",
    "print(\"Expression similarity matrix:\")\n",
    "print(expression_similarity.shape)\n",
    "\n",
    "unweighted_adjacency = calculate_unweighted_adjacency(expression_similarity, threshold)\n",
    "weighted_adjacency = calculate_weighted_adjacency(expression_similarity, beta)\n",
    "\n",
    "print(\"Unweighted adjacency matrix:\")\n",
    "print(unweighted_adjacency.shape)\n",
    "\n",
    "print(\"\\nWeighted adjacency matrix:\")\n",
    "print(weighted_adjacency.shape)\n",
    "\n",
    "\n",
    "# print(unweighted_adjacency.min(), unweighted_adjacency.max())"
   ]
  },
  {
   "cell_type": "code",
   "execution_count": 11,
   "metadata": {},
   "outputs": [
    {
     "name": "stdout",
     "output_type": "stream",
     "text": [
      "torch.Size([200, 200])\n",
      "torch.Size([200, 200])\n",
      "torch.Size([13004, 2])\n",
      "torch.Size([162, 2])\n"
     ]
    },
    {
     "name": "stderr",
     "output_type": "stream",
     "text": [
      "/tmp/ipykernel_31400/3108664384.py:1: UserWarning: To copy construct from a tensor, it is recommended to use sourceTensor.clone().detach() or sourceTensor.clone().detach().requires_grad_(True), rather than torch.tensor(sourceTensor).\n",
      "  unweighted_adjacency_tensor = torch.tensor(unweighted_adjacency, dtype=torch.long)\n",
      "/tmp/ipykernel_31400/3108664384.py:2: UserWarning: To copy construct from a tensor, it is recommended to use sourceTensor.clone().detach() or sourceTensor.clone().detach().requires_grad_(True), rather than torch.tensor(sourceTensor).\n",
      "  weighted_adjacency_tensor = torch.tensor(weighted_adjacency, dtype=torch.long)\n"
     ]
    }
   ],
   "source": [
    "unweighted_adjacency_tensor = torch.tensor(unweighted_adjacency, dtype=torch.long)\n",
    "weighted_adjacency_tensor = torch.tensor(weighted_adjacency, dtype=torch.long)\n",
    "print(unweighted_adjacency_tensor.shape)\n",
    "print(weighted_adjacency_tensor.shape)\n",
    "\n",
    "edge_index_unweighted = torch.nonzero(unweighted_adjacency_tensor, as_tuple=False)\n",
    "edge_index_weighted = torch.nonzero(weighted_adjacency_tensor, as_tuple=False)\n",
    "\n",
    "print(edge_index_unweighted.shape)\n",
    "print(edge_index_weighted.shape)\n",
    "\n",
    "\n",
    "data_unweighted = Data(x = mrna_data_tensor.T, edge_index = edge_index_unweighted.T, y = y)\n",
    "data_unweighted.train_mask = torch.tensor(train_idx, dtype=torch.bool)\n",
    "data_unweighted.test_mask = torch.tensor(test_idx, dtype=torch.bool)\n",
    "data_weighted = Data(x=mrna_data_tensor.T, edge_index=edge_index_weighted.T, y=y)\n",
    "data_weighted.train_mask = torch.tensor(train_idx, dtype=torch.bool)\n",
    "data_weighted.test_mask = torch.tensor(test_idx, dtype=torch.bool)\n",
    "\n",
    "# print(data_unweighted)\n",
    "# print(data_weighted)"
   ]
  },
  {
   "cell_type": "code",
   "execution_count": 12,
   "metadata": {},
   "outputs": [
    {
     "data": {
      "text/plain": [
       "(Data(x=[351, 200], edge_index=[2, 162], y=[351], train_mask=[351], test_mask=[351]),\n",
       " Data(x=[351, 200], edge_index=[2, 13004], y=[351], train_mask=[351], test_mask=[351]))"
      ]
     },
     "execution_count": 12,
     "metadata": {},
     "output_type": "execute_result"
    }
   ],
   "source": [
    "data_weighted, data_unweighted"
   ]
  },
  {
   "cell_type": "code",
   "execution_count": 13,
   "metadata": {},
   "outputs": [
    {
     "data": {
      "text/plain": [
       "array([0, 1])"
      ]
     },
     "execution_count": 13,
     "metadata": {},
     "output_type": "execute_result"
    }
   ],
   "source": [
    "np.unique(np.array(data_unweighted.y))"
   ]
  },
  {
   "cell_type": "code",
   "execution_count": 14,
   "metadata": {},
   "outputs": [
    {
     "name": "stdout",
     "output_type": "stream",
     "text": [
      "GNN(\n",
      "  (conv1): GCNConv(200, 64)\n",
      "  (conv2): GCNConv(64, 2)\n",
      ")\n"
     ]
    }
   ],
   "source": [
    "class GNN(nn.Module):\n",
    "    def __init__(self, input_dim, hidden_dim, output_dim):\n",
    "        super(GNN, self).__init__()\n",
    "        self.conv1 = GCNConv(input_dim, hidden_dim)\n",
    "        self.conv2 = GCNConv(hidden_dim, output_dim)\n",
    "        \n",
    "    def forward(self, data):\n",
    "        x, edge_index = data.x, data.edge_index\n",
    "        x = F.relu(self.conv1(x, edge_index))\n",
    "        x = F.dropout(x, p=0.6, training=self.training)\n",
    "        x = self.conv2(x, edge_index)\n",
    "        return x\n",
    "\n",
    "# Define the dimensions of the GNN model\n",
    "input_dim = mrna_data_tensor.T.shape[1]  # Number of input features\n",
    "hidden_dim = 64  # Number of hidden units\n",
    "output_dim = 2  # Number of output classes\n",
    "\n",
    "# Create an instance of the GNN model\n",
    "model = GNN(input_dim, hidden_dim, output_dim)\n",
    "\n",
    "# Move the model to the appropriate device (e.g., GPU if available)\n",
    "# device = torch.device('cuda' if torch.cuda.is_available() else 'cpu')\n",
    "# model = model.to(device)\n",
    "\n",
    "# Print the model architecture\n",
    "print(model)\n"
   ]
  },
  {
   "cell_type": "code",
   "execution_count": 17,
   "metadata": {},
   "outputs": [
    {
     "data": {
      "text/plain": [
       "torch_geometric.data.data.Data"
      ]
     },
     "execution_count": 17,
     "metadata": {},
     "output_type": "execute_result"
    }
   ],
   "source": [
    "type(data_unweighted)"
   ]
  },
  {
   "cell_type": "code",
   "execution_count": 26,
   "metadata": {},
   "outputs": [
    {
     "data": {
      "text/plain": [
       "(torch.Size([351, 200]), torch.Size([2, 13004]), torch.Size([351]))"
      ]
     },
     "execution_count": 26,
     "metadata": {},
     "output_type": "execute_result"
    }
   ],
   "source": [
    "data_unweighted.x.shape, data_unweighted.edge_index.shape, data_unweighted.y.shape"
   ]
  },
  {
   "cell_type": "code",
   "execution_count": 54,
   "metadata": {},
   "outputs": [],
   "source": [
    "optimizer = optim.Adam(model.parameters(), lr=0.00001)\n",
    "criterion = nn.CrossEntropyLoss()\n",
    "def train(curr_data):\n",
    "    model.train()\n",
    "    optimizer.zero_grad()\n",
    "    output = model(curr_data)\n",
    "    loss = criterion(output[curr_data.train_mask], curr_data.y[curr_data.train_mask])\n",
    "    loss.backward()\n",
    "    optimizer.step()"
   ]
  },
  {
   "cell_type": "code",
   "execution_count": 55,
   "metadata": {},
   "outputs": [],
   "source": [
    "def test(test_data):\n",
    "    model.eval()\n",
    "    output = model(test_data)\n",
    "    pred = output.argmax(dim=1)\n",
    "    correct = pred[test_data.test_mask].eq(test_data.y[test_data.test_mask]).sum().item()\n",
    "    total = test_data.test_mask.sum().item()\n",
    "    return correct / total"
   ]
  },
  {
   "cell_type": "code",
   "execution_count": 56,
   "metadata": {},
   "outputs": [
    {
     "name": "stderr",
     "output_type": "stream",
     "text": [
      "Test accuracy: 0.538: 100%|██████████| 200/200 [00:03<00:00, 60.49it/s]\n"
     ]
    }
   ],
   "source": [
    "test_acc = 0\n",
    "pbar = tqdm.tqdm(range(200))\n",
    "for epoch in pbar:  # Assuming 50 epochs\n",
    "    train(data_unweighted)\n",
    "    test_acc = test(data_unweighted)\n",
    "    pbar.set_description(\"Test accuracy: %.3f\" % test_acc)\n",
    "    # print(f'Epoch: {epoch+1}, Test Acc: {test_acc:.4f}')"
   ]
  },
  {
   "cell_type": "code",
   "execution_count": 57,
   "metadata": {},
   "outputs": [
    {
     "name": "stdout",
     "output_type": "stream",
     "text": [
      "Test Accuracy: 0.5377\n"
     ]
    }
   ],
   "source": [
    "test_acc = test(data_unweighted)\n",
    "print(f'Test Accuracy: {test_acc:.4f}')"
   ]
  },
  {
   "cell_type": "code",
   "execution_count": 58,
   "metadata": {},
   "outputs": [],
   "source": [
    "import matplotlib.pyplot as plt\n",
    "from sklearn.manifold import TSNE\n",
    "\n",
    "\n",
    "def visualize(h, color):\n",
    "    z = TSNE(n_components=2).fit_transform(h.detach().cpu().numpy())\n",
    "\n",
    "    plt.figure(figsize=(10,10))\n",
    "    plt.xticks([])\n",
    "    plt.yticks([])\n",
    "\n",
    "    plt.scatter(z[:, 0], z[:, 1], s=70, c=color, cmap=\"Set2\")\n",
    "    plt.show()"
   ]
  },
  {
   "cell_type": "code",
   "execution_count": 52,
   "metadata": {},
   "outputs": [
    {
     "data": {
      "image/png": "[encoded data removed]",
      "text/plain": [
       "<Figure size 1000x1000 with 1 Axes>"
      ]
     },
     "metadata": {},
     "output_type": "display_data"
    }
   ],
   "source": [
    "out = model(data_unweighted)\n",
    "visualize(out, color=data_unweighted.y)"
   ]
  },
  {
   "cell_type": "code",
   "execution_count": null,
   "metadata": {},
   "outputs": [],
   "source": []
  }
 ],
 "metadata": {
  "kernelspec": {
   "display_name": "GOA",
   "language": "python",
   "name": "python3"
  },
  "language_info": {
   "codemirror_mode": {
    "name": "ipython",
    "version": 3
   },
   "file_extension": ".py",
   "mimetype": "text/x-python",
   "name": "python",
   "nbconvert_exporter": "python",
   "pygments_lexer": "ipython3",
   "version": "3.10.13"
  }
 },
 "nbformat": 4,
 "nbformat_minor": 2
}
