{
 "cells": [
  {
   "cell_type": "code",
   "execution_count": 5,
   "metadata": {},
   "outputs": [],
   "source": [
    "import os"
   ]
  },
  {
   "cell_type": "code",
   "execution_count": 6,
   "metadata": {},
   "outputs": [],
   "source": [
    "dataset_name = \"THCA\"\n",
    "data_types = [\n",
    "    \"mrna\",\n",
    "    \"mirna\",\n",
    "    \"methy\",\n",
    "    \"methy_mirna\",\n",
    "    \"mrna_mirna\",\n",
    "    \"methy_mrna\",\n",
    "    \"methy_mirna_mrna\",\n",
    "]\n",
    "data_roots = [\"methy\", \"mrna\", \"mirna\"]"
   ]
  },
  {
   "cell_type": "code",
   "execution_count": 7,
   "metadata": {},
   "outputs": [
    {
     "name": "stdout",
     "output_type": "stream",
     "text": [
      "logs/logs_THCA_methy_mirna_mrna/plots\n",
      "True\n",
      "logs/logs_THCA_methy_mirna_mrna/plots/feature_names_0_methy.txt\n",
      "True\n"
     ]
    }
   ],
   "source": [
    "dir_name = f\"logs/logs_{dataset_name}_{data_types[-1]}/plots\"\n",
    "file_name = f\"feature_names_0_{data_roots[0]}.txt\"\n",
    "print(dir_name)\n",
    "print(os.path.exists(dir_name))\n",
    "filepath = os.path.join(dir_name, file_name)\n",
    "print(filepath)\n",
    "print(os.path.exists(filepath))"
   ]
  },
  {
   "cell_type": "code",
   "execution_count": 8,
   "metadata": {},
   "outputs": [
    {
     "name": "stdout",
     "output_type": "stream",
     "text": [
      "For: methy\n",
      "Intersection:\n",
      "{'TACSTD2', 'SRRD', 'CDON', 'MIR155HG', 'TYRO3', 'DUSP1', 'SCARA3', 'SUSD4', 'RNF208', 'UBXN10', 'GNA14', 'ZNRF3', 'ABCC3', 'SCNN1A', 'LGALS1', 'C1orf180', 'KLF16', 'KIAA0922', 'GJB3', 'C20orf195'}\n",
      "For: mrna\n",
      "Intersection:\n",
      "{'SIRT4.23409', 'ANXA3.306', 'GPR110.266977', 'SFXN3.81855', 'ASAP2.8853', 'RBPMS2.348093', 'DTX4.23220', 'MRPL34.64981', 'C1orf112.55732', 'F11R.50848', 'SEMA4C.54910', 'MPZL2.10205', 'SLC5A8.160728', 'CCDC90A.63933', 'HDHD2.84064', 'VDAC3.7419', 'ABHD10.55347', 'BCAP29.55973', 'IGSF9.57549', 'PTRF.284119'}\n",
      "For: mirna\n",
      "Intersection:\n",
      "{'hsa.mir.96', 'hsa.mir.146b', 'hsa.mir.365.1', 'hsa.mir.618', 'hsa.mir.221', 'hsa.mir.182', 'hsa.mir.652', 'hsa.mir.27a', 'hsa.mir.30c.1', 'hsa.mir.187', 'hsa.mir.92b', 'hsa.mir.3926.1', 'hsa.mir.873', 'hsa.mir.449a', 'hsa.mir.450a.1', 'hsa.mir.485', 'hsa.mir.205', 'hsa.mir.320d.2', 'hsa.mir.3074', 'hsa.mir.185'}\n"
     ]
    }
   ],
   "source": [
    "for curr_data_root in data_roots:\n",
    "    print(f\"For: {curr_data_root}\")\n",
    "    my_arr = []\n",
    "    for curr_dir_type in data_types:\n",
    "        if curr_data_root not in curr_dir_type:\n",
    "            continue\n",
    "        filename = f\"feature_names_0_{curr_data_root}.txt\"\n",
    "        if not os.path.exists(os.path.join(dir_name, filename)):\n",
    "            print(curr_data_root, curr_dir_type)\n",
    "            raise ValueError(f\"File {filename} does not exist\")\n",
    "        \n",
    "        with open(os.path.join(dir_name, filename), \"r\") as f:\n",
    "            lines = f.readlines()\n",
    "            lines = [line.strip() for line in lines]\n",
    "            my_arr.append(set(lines))\n",
    "    print(\"Intersection:\")\n",
    "    print(set.intersection(*my_arr))\n",
    "\n",
    " \n"
   ]
  },
  {
   "cell_type": "code",
   "execution_count": null,
   "metadata": {},
   "outputs": [],
   "source": []
  }
 ],
 "metadata": {
  "kernelspec": {
   "display_name": "tf_env",
   "language": "python",
   "name": "python3"
  },
  "language_info": {
   "codemirror_mode": {
    "name": "ipython",
    "version": 3
   },
   "file_extension": ".py",
   "mimetype": "text/x-python",
   "name": "python",
   "nbconvert_exporter": "python",
   "pygments_lexer": "ipython3",
   "version": "3.9.0"
  }
 },
 "nbformat": 4,
 "nbformat_minor": 2
}
