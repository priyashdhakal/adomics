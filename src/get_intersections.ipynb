{
 "cells": [
  {
   "cell_type": "code",
   "execution_count": 1,
   "metadata": {},
   "outputs": [],
   "source": [
    "import os"
   ]
  },
  {
   "cell_type": "code",
   "execution_count": 2,
   "metadata": {},
   "outputs": [],
   "source": [
    "dataset_name = \"UCEC\"\n",
    "data_types = [\n",
    "    \"mrna\",\n",
    "    \"mirna\",\n",
    "    \"methy\",\n",
    "    \"methy_mirna\",\n",
    "    \"mrna_mirna\",\n",
    "    \"methy_mrna\",\n",
    "    \"methy_mirna_mrna\",\n",
    "]\n",
    "data_roots = [\"methy\", \"mrna\", \"mirna\"]"
   ]
  },
  {
   "cell_type": "code",
   "execution_count": 3,
   "metadata": {},
   "outputs": [
    {
     "name": "stdout",
     "output_type": "stream",
     "text": [
      "logs/logs_UCEC_methy_mirna_mrna/plots\n",
      "True\n",
      "logs/logs_UCEC_methy_mirna_mrna/plots/feature_names_0_methy.txt\n",
      "True\n"
     ]
    }
   ],
   "source": [
    "dir_name = f\"logs/logs_{dataset_name}_{data_types[-1]}/plots\"\n",
    "file_name = f\"feature_names_0_{data_roots[0]}.txt\"\n",
    "print(dir_name)\n",
    "print(os.path.exists(dir_name))\n",
    "filepath = os.path.join(dir_name, file_name)\n",
    "print(filepath)\n",
    "print(os.path.exists(filepath))"
   ]
  },
  {
   "cell_type": "code",
   "execution_count": 4,
   "metadata": {},
   "outputs": [
    {
     "name": "stdout",
     "output_type": "stream",
     "text": [
      "For: methy\n",
      "Intersection:\n",
      "{'DUSP22', 'NCRNA00099', 'VKORC1', 'LOC100133331', 'LPL', 'FAM174B', 'LEAP2', 'FANCF', 'OR51L1', 'ST8SIA4', 'KCNA4', 'SEZ6L', 'MKX', 'MFSD1', 'FAM46A', 'EXT1', 'DDTL', 'FAR2', 'SRGAP1', 'C6orf186'}\n",
      "For: mrna\n",
      "Intersection:\n",
      "{'NR6A1|2649', 'STRA6|64220', 'LRRC14B|389257', 'GPR87|53836', 'SHISA9|729993', 'C10orf81|79949', 'MMP13|4322', 'KRT6C|286887', 'FAM83G|644815', 'PREB|10113', 'PTPRU|10076', 'VLDLR|7436', 'CGN|57530', 'ZNF689|115509', 'PKM2|5315', 'SNORD116-20|100033431', 'FGF16|8823', 'IGSF5|150084', 'DYRK1B|9149', 'ZNF592|9640'}\n",
      "For: mirna\n",
      "Intersection:\n",
      "{'hsa-mir-3676', 'hsa-mir-3622a', 'hsa-mir-103-2', 'hsa-mir-1243', 'hsa-mir-3065', 'hsa-mir-885', 'hsa-mir-499', 'hsa-mir-377', 'hsa-mir-708', 'hsa-mir-1249', 'hsa-mir-10a', 'hsa-mir-585', 'hsa-mir-744', 'hsa-mir-641', 'hsa-mir-195', 'hsa-mir-301a', 'hsa-mir-579', 'hsa-mir-1179', 'hsa-mir-3145', 'hsa-mir-4286'}\n"
     ]
    }
   ],
   "source": [
    "for curr_data_root in data_roots:\n",
    "    print(f\"For: {curr_data_root}\")\n",
    "    my_arr = []\n",
    "    for curr_dir_type in data_types:\n",
    "        if curr_data_root not in curr_dir_type:\n",
    "            continue\n",
    "        filename = f\"feature_names_0_{curr_data_root}.txt\"\n",
    "        if not os.path.exists(os.path.join(dir_name, filename)):\n",
    "            print(curr_data_root, curr_dir_type)\n",
    "            raise ValueError(f\"File {filename} does not exist\")\n",
    "        \n",
    "        with open(os.path.join(dir_name, filename), \"r\") as f:\n",
    "            lines = f.readlines()\n",
    "            lines = [line.strip() for line in lines]\n",
    "            my_arr.append(set(lines))\n",
    "    print(\"Intersection:\")\n",
    "    print(set.intersection(*my_arr))\n",
    "\n",
    " \n"
   ]
  },
  {
   "cell_type": "code",
   "execution_count": null,
   "metadata": {},
   "outputs": [],
   "source": []
  }
 ],
 "metadata": {
  "kernelspec": {
   "display_name": "tf_env",
   "language": "python",
   "name": "python3"
  },
  "language_info": {
   "codemirror_mode": {
    "name": "ipython",
    "version": 3
   },
   "file_extension": ".py",
   "mimetype": "text/x-python",
   "name": "python",
   "nbconvert_exporter": "python",
   "pygments_lexer": "ipython3",
   "version": "3.9.0"
  }
 },
 "nbformat": 4,
 "nbformat_minor": 2
}
