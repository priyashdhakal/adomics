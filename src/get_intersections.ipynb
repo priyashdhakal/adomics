{
 "cells": [
  {
   "cell_type": "code",
   "execution_count": 3,
   "metadata": {},
   "outputs": [],
   "source": [
    "import os"
   ]
  },
  {
   "cell_type": "code",
   "execution_count": 4,
   "metadata": {},
   "outputs": [],
   "source": [
    "dataset_name = \"ROSMAP\"\n",
    "data_types = [\n",
    "    \"mrna\",\n",
    "    \"mirna\",\n",
    "    \"methy\",\n",
    "    \"methy_mirna\",\n",
    "    \"mrna_mirna\",\n",
    "    \"methy_mrna\",\n",
    "    \"methy_mirna_mrna\",\n",
    "]\n",
    "data_roots = [\"methy\", \"mrna\", \"mirna\"]"
   ]
  },
  {
   "cell_type": "code",
   "execution_count": 7,
   "metadata": {},
   "outputs": [
    {
     "name": "stdout",
     "output_type": "stream",
     "text": [
      "logs/logs_ROSMAP_methy_mirna_mrna/plots\n",
      "True\n",
      "logs/logs_ROSMAP_methy_mirna_mrna/plots/feature_names_0_methy.txt\n",
      "True\n"
     ]
    }
   ],
   "source": [
    "dir_name = f\"logs/logs_{dataset_name}_{data_types[-1]}/plots\"\n",
    "file_name = f\"feature_names_0_{data_roots[0]}.txt\"\n",
    "print(dir_name)\n",
    "print(os.path.exists(dir_name))\n",
    "filepath = os.path.join(dir_name, file_name)\n",
    "print(filepath)\n",
    "print(os.path.exists(filepath))"
   ]
  },
  {
   "cell_type": "code",
   "execution_count": 17,
   "metadata": {},
   "outputs": [
    {
     "name": "stdout",
     "output_type": "stream",
     "text": [
      "For: methy\n",
      "Intersection:\n",
      "{'cg14792480', 'cg21062347', 'cg13547644', 'cg20483374', 'cg02932167', 'cg02654291', 'cg15083233', 'cg10468702', 'cg18220560', 'cg22534509', 'cg04428453', 'cg08367223', 'cg19368582', 'cg05382123', 'cg05164634', 'cg19264571', 'cg02008416', 'cg20692569', 'cg17886959', 'cg06220958'}\n",
      "For: mrna\n",
      "Intersection:\n",
      "{'ENSG00000235423.3', 'ENSG00000203565.2', 'ENSG00000235501.1', 'ENSG00000168743.8', 'ENSG00000182851.2', 'ENSG00000105419.11', 'ENSG00000178796.8', 'ENSG00000242349.1', 'ENSG00000254211.1', 'ENSG00000155980.6', 'ENSG00000198624.8', 'ENSG00000151552.7', 'ENSG00000125878.4', 'ENSG00000254239.1', 'ENSG00000260328.1', 'ENSG00000196415.4', 'ENSG00000188269.3', 'ENSG00000180777.9', 'ENSG00000253210.1', 'ENSG00000267488.1'}\n",
      "For: mirna\n",
      "Intersection:\n",
      "{'hsa-miR-133b', 'hsa-miR-539', 'hsa-miR-106b', 'hsa-miR-448', 'hsa-miR-10b', 'hsa-miR-219-2-3p', 'hsa-miR-424', 'hsa-miR-130b', 'hsa-miR-770-5p', 'hsa-miR-574-3p', 'hsa-miR-208a', 'hsa-miR-19b', 'hsa-miR-151-3p', 'hsa-miR-34b', 'hsa-miR-377', 'hsa-miR-30d', 'hsa-miR-362-3p', 'hsa-miR-431', 'hsa-miR-582-5p', 'hsa-miR-516a-3p'}\n"
     ]
    }
   ],
   "source": [
    "for curr_data_root in data_roots:\n",
    "    print(f\"For: {curr_data_root}\")\n",
    "    my_arr = []\n",
    "    for curr_dir_type in data_types:\n",
    "        if curr_data_root not in curr_dir_type:\n",
    "            continue\n",
    "        filename = f\"feature_names_0_{curr_data_root}.txt\"\n",
    "        if not os.path.exists(os.path.join(dir_name, filename)):\n",
    "            print(curr_data_root, curr_dir_type)\n",
    "            raise ValueError(f\"File {filename} does not exist\")\n",
    "        \n",
    "        with open(os.path.join(dir_name, filename), \"r\") as f:\n",
    "            lines = f.readlines()\n",
    "            lines = [line.strip() for line in lines]\n",
    "            my_arr.append(set(lines))\n",
    "    print(\"Intersection:\")\n",
    "    print(set.intersection(*my_arr))"
   ]
  },
  {
   "cell_type": "code",
   "execution_count": null,
   "metadata": {},
   "outputs": [],
   "source": []
  }
 ],
 "metadata": {
  "kernelspec": {
   "display_name": "tf_env",
   "language": "python",
   "name": "python3"
  },
  "language_info": {
   "codemirror_mode": {
    "name": "ipython",
    "version": 3
   },
   "file_extension": ".py",
   "mimetype": "text/x-python",
   "name": "python",
   "nbconvert_exporter": "python",
   "pygments_lexer": "ipython3",
   "version": "3.9.0"
  }
 },
 "nbformat": 4,
 "nbformat_minor": 2
}
