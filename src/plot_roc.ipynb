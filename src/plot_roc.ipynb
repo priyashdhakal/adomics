{
 "cells": [
  {
   "cell_type": "code",
   "execution_count": 1,
   "metadata": {},
   "outputs": [],
   "source": [
    "true_path = \"/home/dhakal/MoBI/src/logs/logs_LUAD_methy/plots/true_labels.npy\"\n",
    "pred_path = \"/home/dhakal/MoBI/src/logs/logs_LUAD_methy/plots/raw_predictions.npy\""
   ]
  },
  {
   "cell_type": "markdown",
   "metadata": {},
   "source": [
    "Reference: https://stackoverflow.com/questions/61086759/how-to-plot-a-roc-curve-from-a-softmax-binary-classifier-with-2-output-neurons"
   ]
  },
  {
   "cell_type": "code",
   "execution_count": 2,
   "metadata": {},
   "outputs": [],
   "source": [
    "import numpy as np \n",
    "import sklearn "
   ]
  },
  {
   "cell_type": "code",
   "execution_count": 3,
   "metadata": {},
   "outputs": [
    {
     "name": "stdout",
     "output_type": "stream",
     "text": [
      "(112, 2) (112, 2)\n"
     ]
    }
   ],
   "source": [
    "test_y = np.load(true_path)\n",
    "pred_y = np.load(pred_path)\n",
    "print(test_y.shape, pred_y.shape)"
   ]
  },
  {
   "cell_type": "code",
   "execution_count": 6,
   "metadata": {},
   "outputs": [
    {
     "name": "stdout",
     "output_type": "stream",
     "text": [
      "1 (112,)\n"
     ]
    }
   ],
   "source": [
    "test_y = np.argmax(test_y, axis=-1) # getting the labels\n",
    "print(test_y[0], test_y.shape)"
   ]
  },
  {
   "cell_type": "code",
   "execution_count": 7,
   "metadata": {},
   "outputs": [
    {
     "name": "stdout",
     "output_type": "stream",
     "text": [
      "1 (112,)\n"
     ]
    }
   ],
   "source": [
    "pred_y = np.argmax(pred_y, axis=-1) # getting the labels\n",
    "print(pred_y[0], pred_y.shape)"
   ]
  },
  {
   "cell_type": "code",
   "execution_count": 9,
   "metadata": {},
   "outputs": [],
   "source": [
    "# plotting the ROC Curve \n",
    "import matplotlib.pyplot as plt\n",
    "from sklearn.metrics import roc_curve, auc\n"
   ]
  },
  {
   "cell_type": "code",
   "execution_count": 10,
   "metadata": {},
   "outputs": [
    {
     "name": "stdout",
     "output_type": "stream",
     "text": [
      "0.6675381263616558\n"
     ]
    }
   ],
   "source": [
    "fpr, tpr, _ = roc_curve(test_y, pred_y)\n",
    "roc_auc = auc(fpr, tpr)\n",
    "print(roc_auc)"
   ]
  },
  {
   "cell_type": "code",
   "execution_count": null,
   "metadata": {},
   "outputs": [],
   "source": []
  }
 ],
 "metadata": {
  "kernelspec": {
   "display_name": "tf_env",
   "language": "python",
   "name": "python3"
  },
  "language_info": {
   "codemirror_mode": {
    "name": "ipython",
    "version": 3
   },
   "file_extension": ".py",
   "mimetype": "text/x-python",
   "name": "python",
   "nbconvert_exporter": "python",
   "pygments_lexer": "ipython3",
   "version": "3.9.0"
  }
 },
 "nbformat": 4,
 "nbformat_minor": 2
}
