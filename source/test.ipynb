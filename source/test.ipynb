{
 "cells": [
  {
   "cell_type": "code",
   "execution_count": 1,
   "metadata": {},
   "outputs": [],
   "source": [
    "import pandas as pd\n",
    "import numpy as np\n",
    "import os \n",
    "import networkx as nx\n",
    "import matplotlib.pyplot as plt"
   ]
  },
  {
   "cell_type": "code",
   "execution_count": 2,
   "metadata": {},
   "outputs": [],
   "source": [
    "BASEPATH = os.getcwd()\n",
    "DATA_PATH = os.path.join(BASEPATH, 'data')"
   ]
  },
  {
   "cell_type": "code",
   "execution_count": 32,
   "metadata": {},
   "outputs": [
    {
     "name": "stdout",
     "output_type": "stream",
     "text": [
      "(611, 999) (262, 999) (999, 0)\n",
      "(611, 999) (262, 999) (999, 0)\n",
      "(611, 502) (262, 502) (502, 0)\n",
      "(611, 0) (262, 0)\n"
     ]
    }
   ],
   "source": [
    "#BRCA dataset\n",
    "b_one_data_tr = pd.read_csv(os.path.join(DATA_PATH, 'BRCA/1_tr.csv'), delimiter=',', index_col=0) \n",
    "b_one_data_te = pd.read_csv(os.path.join(DATA_PATH, 'BRCA/1_te.csv'), delimiter=',', index_col=0)\n",
    "\n",
    "b_two_data_tr = pd.read_csv(os.path.join(DATA_PATH, 'BRCA/2_tr.csv'), delimiter=',', index_col=0) \n",
    "b_two_data_te = pd.read_csv(os.path.join(DATA_PATH, 'BRCA/2_te.csv'), delimiter=',', index_col=0)\n",
    "\n",
    "b_three_data_tr = pd.read_csv(os.path.join(DATA_PATH, 'BRCA/3_tr.csv'), delimiter=',', index_col=0)\n",
    "b_three_data_te = pd.read_csv(os.path.join(DATA_PATH, 'BRCA/3_te.csv'), delimiter=',', index_col=0)\n",
    "\n",
    "b_labels_tr = pd.read_csv(os.path.join(DATA_PATH, 'BRCA/labels_tr.csv'),delimiter=',', index_col=0)\n",
    "b_labels_te = pd.read_csv(os.path.join(DATA_PATH, 'BRCA/labels_te.csv'),delimiter=',', index_col=0)\n",
    "\n",
    "b_one_fetr = pd.read_csv(os.path.join(DATA_PATH, 'BRCA/1_featname.csv'),delimiter=',', index_col=0)\n",
    "b_two_fetr = pd.read_csv(os.path.join(DATA_PATH, 'BRCA/2_featname.csv'),delimiter=',', index_col=0)\n",
    "b_three_fetr = pd.read_csv(os.path.join(DATA_PATH, 'BRCA/3_featname.csv'),delimiter=',', index_col=0)\n",
    "\n",
    "print(b_one_data_tr.shape, b_one_data_te.shape, b_one_fetr.shape)\n",
    "print(b_two_data_tr.shape, b_two_data_te.shape, b_two_fetr.shape) \n",
    "print(b_three_data_tr.shape, b_three_data_te.shape, b_three_fetr.shape)\n",
    "print(b_labels_tr.shape, b_labels_te.shape)\n"
   ]
  },
  {
   "cell_type": "code",
   "execution_count": 33,
   "metadata": {},
   "outputs": [
    {
     "name": "stdout",
     "output_type": "stream",
     "text": [
      "(244, 199) (105, 199) (199, 0)\n",
      "(244, 199) (105, 199) (199, 0)\n",
      "(244, 199) (105, 199) (199, 0)\n",
      "(244, 0) (105, 0)\n"
     ]
    }
   ],
   "source": [
    "#ROSMAP dataset\n",
    "r_one_data_tr = pd.read_csv(os.path.join(DATA_PATH, 'ROSMAP/1_tr.csv'), delimiter=',', index_col=0) \n",
    "r_one_data_te = pd.read_csv(os.path.join(DATA_PATH, 'ROSMAP/1_te.csv'), delimiter=',', index_col=0)\n",
    "\n",
    "r_two_data_tr = pd.read_csv(os.path.join(DATA_PATH, 'ROSMAP/2_tr.csv'), delimiter=',', index_col=0) \n",
    "r_two_data_te = pd.read_csv(os.path.join(DATA_PATH, 'ROSMAP/2_te.csv'), delimiter=',', index_col=0)\n",
    "\n",
    "r_three_data_tr = pd.read_csv(os.path.join(DATA_PATH, 'ROSMAP/3_tr.csv'), delimiter=',', index_col=0) \n",
    "r_three_data_te = pd.read_csv(os.path.join(DATA_PATH, 'ROSMAP/3_te.csv'), delimiter=',', index_col=0)\n",
    "\n",
    "r_labels_tr = pd.read_csv(os.path.join(DATA_PATH, 'ROSMAP/labels_tr.csv'),delimiter=',', index_col=0)\n",
    "r_labels_te = pd.read_csv(os.path.join(DATA_PATH, 'ROSMAP/labels_te.csv'),delimiter=',', index_col=0)\n",
    "\n",
    "r_one_fetr = pd.read_csv(os.path.join(DATA_PATH, 'ROSMAP/1_featname.csv'),delimiter=',', index_col=0)\n",
    "r_two_fetr = pd.read_csv(os.path.join(DATA_PATH, 'ROSMAP/2_featname.csv'),delimiter=',', index_col=0)\n",
    "r_three_fetr = pd.read_csv(os.path.join(DATA_PATH, 'ROSMAP/3_featname.csv'),delimiter=',', index_col=0)\n",
    "\n",
    "print(r_one_data_tr.shape, r_one_data_te.shape, r_one_fetr.shape)\n",
    "print(r_two_data_tr.shape, r_two_data_te.shape, r_two_fetr.shape) \n",
    "print(r_three_data_tr.shape, r_three_data_te.shape, r_three_fetr.shape)\n",
    "print(r_labels_tr.shape, r_labels_te.shape)"
   ]
  },
  {
   "cell_type": "code",
   "execution_count": 34,
   "metadata": {},
   "outputs": [],
   "source": [
    "def cosine_similarity(x, y):\n",
    "    return np.dot(x, y) / (np.linalg.norm(x) * np.linalg.norm(y))"
   ]
  },
  {
   "cell_type": "code",
   "execution_count": 35,
   "metadata": {},
   "outputs": [],
   "source": [
    "\n",
    "def cal_cosine_similarity(data):\n",
    "    A = np.zeros((len(data), len(data)))\n",
    "    for i in range (0, len(data)):\n",
    "        for j in range (0, len(data)):\n",
    "            if (i != j):\n",
    "                cos_sim = cosine_similarity(data.iloc[i], data.iloc[j])\n",
    "                A[i][j] = cos_sim\n",
    "    return A\n",
    "        \n",
    "        "
   ]
  },
  {
   "cell_type": "code",
   "execution_count": 36,
   "metadata": {},
   "outputs": [
    {
     "name": "stdout",
     "output_type": "stream",
     "text": [
      "(611, 611)\n"
     ]
    }
   ],
   "source": [
    "x = cal_cosine_similarity(b_one_data_tr)\n",
    "print(x.shape)\n"
   ]
  },
  {
   "cell_type": "code",
   "execution_count": 41,
   "metadata": {},
   "outputs": [
    {
     "data": {
      "text/plain": [
       "array([[0.        , 0.95710842, 0.98331025, ..., 0.96765125, 0.97823998,\n",
       "        0.98196575],\n",
       "       [0.95710842, 0.        , 0.97236172, ..., 0.95660615, 0.98618325,\n",
       "        0.97209683],\n",
       "       [0.98331025, 0.97236172, 0.        , ..., 0.9626096 , 0.9911158 ,\n",
       "        0.99135811],\n",
       "       ...,\n",
       "       [0.96765125, 0.95660615, 0.9626096 , ..., 0.        , 0.96158474,\n",
       "        0.96056247],\n",
       "       [0.97823998, 0.98618325, 0.9911158 , ..., 0.96158474, 0.        ,\n",
       "        0.99062318],\n",
       "       [0.98196575, 0.97209683, 0.99135811, ..., 0.96056247, 0.99062318,\n",
       "        0.        ]])"
      ]
     },
     "execution_count": 41,
     "metadata": {},
     "output_type": "execute_result"
    }
   ],
   "source": [
    "x"
   ]
  },
  {
   "cell_type": "code",
   "execution_count": 38,
   "metadata": {},
   "outputs": [
    {
     "name": "stdout",
     "output_type": "stream",
     "text": [
      "0.017059362891251668\n",
      "0.017030310266952214\n"
     ]
    }
   ],
   "source": [
    "thre = 10*x.shape[0]/(x.sum())#+x.shape[0])\n",
    "thre1 = 10*x.shape[0]/(x.sum()+x.shape[0])\n",
    "print(thre)\n",
    "print(thre1)"
   ]
  },
  {
   "cell_type": "code",
   "execution_count": 45,
   "metadata": {},
   "outputs": [
    {
     "name": "stdout",
     "output_type": "stream",
     "text": [
      "(611, 611)\n"
     ]
    }
   ],
   "source": [
    "A = (x > thre).astype(int)\n",
    "print(A.shape)"
   ]
  },
  {
   "cell_type": "code",
   "execution_count": 46,
   "metadata": {},
   "outputs": [
    {
     "data": {
      "text/plain": [
       "array([[0, 1, 1, ..., 1, 1, 1],\n",
       "       [1, 0, 1, ..., 1, 1, 1],\n",
       "       [1, 1, 0, ..., 1, 1, 1],\n",
       "       ...,\n",
       "       [1, 1, 1, ..., 0, 1, 1],\n",
       "       [1, 1, 1, ..., 1, 0, 1],\n",
       "       [1, 1, 1, ..., 1, 1, 0]])"
      ]
     },
     "execution_count": 46,
     "metadata": {},
     "output_type": "execute_result"
    }
   ],
   "source": [
    "A"
   ]
  },
  {
   "cell_type": "code",
   "execution_count": 47,
   "metadata": {},
   "outputs": [
    {
     "name": "stdout",
     "output_type": "stream",
     "text": [
      "[0 1 1 1 1 1 1 1 1 1 1 1 1 1 1 1 1 1 1 1 1 1 1 1 1 1 1 1 1 1 1 1 1 1 1 1 1\n",
      " 1 1 1 1 1 1 1 1 1 1 1 1 1 1 1 1 1 1 1 1 1 1 1 1 1 1 1 1 1 1 1 1 1 1 1 1 1\n",
      " 1 1 1 1 1 1 1 1 1 1 1 1 1 1 1 1 1 1 1 1 1 1 1 1 1 1 1 1 1 1 1 1 1 1 1 1 1\n",
      " 1 1 1 1 1 1 1 1 1 1 1 1 1 1 1 1 1 1 1 1 1 1 1 1 1 1 1 1 1 1 1 1 1 1 1 1 1\n",
      " 1 1 1 1 1 1 1 1 1 1 1 1 1 1 1 1 1 1 1 1 1 1 1 1 1 1 1 1 1 1 1 1 1 1 1 1 1\n",
      " 1 1 1 1 1 1 1 1 1 1 1 1 1 1 1 1 1 1 1 1 1 1 1 1 1 1 1 1 1 1 1 1 1 1 1 1 1\n",
      " 1 1 1 1 1 1 1 1 1 1 1 1 1 1 1 1 1 1 1 1 1 1 1 1 1 1 1 1 1 1 1 1 1 1 1 1 1\n",
      " 1 1 1 1 1 1 1 1 1 1 1 1 1 1 1 1 1 1 1 1 1 1 1 1 1 1 1 1 1 1 1 1 1 1 1 1 1\n",
      " 1 1 1 1 1 1 1 1 1 1 1 1 1 1 1 1 1 1 1 1 1 1 1 1 1 1 1 1 1 1 1 1 1 1 1 1 1\n",
      " 1 1 1 1 1 1 1 1 1 1 1 1 1 1 1 1 1 1 1 1 1 1 1 1 1 1 1 1 1 1 1 1 1 1 1 1 1\n",
      " 1 1 1 1 1 1 1 1 1 1 1 1 1 1 1 1 1 1 1 1 1 1 1 1 1 1 1 1 1 1 1 1 1 1 1 1 1\n",
      " 1 1 1 1 1 1 1 1 1 1 1 1 1 1 1 1 1 1 1 1 1 1 1 1 1 1 1 1 1 1 1 1 1 1 1 1 1\n",
      " 1 1 1 1 1 1 1 1 1 1 1 1 1 1 1 1 1 1 1 1 1 1 1 1 1 1 1 1 1 1 1 1 1 1 1 1 1\n",
      " 1 1 1 1 1 1 1 1 1 1 1 1 1 1 1 1 1 1 1 1 1 1 1 1 1 1 1 1 1 1 1 1 1 1 1 1 1\n",
      " 1 1 1 1 1 1 1 1 1 1 1 1 1 1 1 1 1 1 1 1 1 1 1 1 1 1 1 1 1 1 1 1 1 1 1 1 1\n",
      " 1 1 1 1 1 1 1 1 1 1 1 1 1 1 1 1 1 1 1 1 1 1 1 1 1 1 1 1 1 1 1 1 1 1 1 1 1\n",
      " 1 1 1 1 1 1 1 1 1 1 1 1 1 1 1 1 1 1 1]\n"
     ]
    }
   ],
   "source": [
    "print(A[0])"
   ]
  },
  {
   "cell_type": "code",
   "execution_count": null,
   "metadata": {},
   "outputs": [],
   "source": []
  }
 ],
 "metadata": {
  "kernelspec": {
   "display_name": "ADomics",
   "language": "python",
   "name": "python3"
  },
  "language_info": {
   "codemirror_mode": {
    "name": "ipython",
    "version": 3
   },
   "file_extension": ".py",
   "mimetype": "text/x-python",
   "name": "python",
   "nbconvert_exporter": "python",
   "pygments_lexer": "ipython3",
   "version": "3.9.18"
  }
 },
 "nbformat": 4,
 "nbformat_minor": 2
}
