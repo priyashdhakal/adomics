{
 "cells": [
  {
   "cell_type": "code",
   "execution_count": 2,
   "metadata": {},
   "outputs": [
    {
     "name": "stderr",
     "output_type": "stream",
     "text": [
      "2024-01-16 20:48:13.774866: I external/local_tsl/tsl/cuda/cudart_stub.cc:31] Could not find cuda drivers on your machine, GPU will not be used.\n",
      "2024-01-16 20:48:14.054276: E external/local_xla/xla/stream_executor/cuda/cuda_dnn.cc:9261] Unable to register cuDNN factory: Attempting to register factory for plugin cuDNN when one has already been registered\n",
      "2024-01-16 20:48:14.054361: E external/local_xla/xla/stream_executor/cuda/cuda_fft.cc:607] Unable to register cuFFT factory: Attempting to register factory for plugin cuFFT when one has already been registered\n",
      "2024-01-16 20:48:14.084382: E external/local_xla/xla/stream_executor/cuda/cuda_blas.cc:1515] Unable to register cuBLAS factory: Attempting to register factory for plugin cuBLAS when one has already been registered\n",
      "2024-01-16 20:48:14.167141: I external/local_tsl/tsl/cuda/cudart_stub.cc:31] Could not find cuda drivers on your machine, GPU will not be used.\n",
      "2024-01-16 20:48:14.170008: I tensorflow/core/platform/cpu_feature_guard.cc:182] This TensorFlow binary is optimized to use available CPU instructions in performance-critical operations.\n",
      "To enable the following instructions: AVX2 FMA, in other operations, rebuild TensorFlow with the appropriate compiler flags.\n",
      "2024-01-16 20:48:15.678399: W tensorflow/compiler/tf2tensorrt/utils/py_utils.cc:38] TF-TRT Warning: Could not find TensorRT\n"
     ]
    }
   ],
   "source": [
    "import pandas as pd\n",
    "import numpy as np\n",
    "import matplotlib.pyplot as plt\n",
    "import os\n",
    "from sklearn.preprocessing import StandardScaler\n",
    "from sklearn.multiclass import OneVsRestClassifier\n",
    "from sklearn.ensemble import RandomForestClassifier\n",
    "import tensorflow as tf\n",
    "from tensorflow import keras\n",
    "from keras.models import Sequential\n",
    "from keras.layers import Dense\n",
    "from tensorflow.keras.layers import Dropout\n",
    "from tensorflow.keras.constraints import MaxNorm\n",
    "from tensorflow.keras.layers import BatchNormalization\n",
    "from tensorflow.keras.optimizers import schedules\n",
    "\n",
    "from sklearn.model_selection import train_test_split\n",
    "from sklearn.metrics import cohen_kappa_score, matthews_corrcoef, recall_score, precision_score, f1_score, accuracy_score\n",
    "from tensorflow.keras.models import Model\n",
    "from tensorflow.keras.layers import Input, Conv1D, MaxPooling1D, Flatten, Dense, Dropout\n",
    "from tensorflow.keras.optimizers import Adam\n",
    "from tensorflow.keras.callbacks import EarlyStopping\n",
    "from tensorflow.keras.regularizers import l2\n",
    "import matplotlib.pyplot as plt\n"
   ]
  },
  {
   "cell_type": "code",
   "execution_count": 3,
   "metadata": {},
   "outputs": [],
   "source": [
    "BASE_PATH = 'data/ROSMAP/'\n",
    "methy_path = os.path.join(BASE_PATH,'methy.csv')\n",
    "mirna_path = os.path.join(BASE_PATH,'mirna.csv')\n",
    "mrna_path = os.path.join(BASE_PATH,'mrna.csv')\n",
    "if not os.path.exists(methy_path) or not os.path.exists(mirna_path) or not os.path.exists(mrna_path):\n",
    "    raise Exception('File not exists!')"
   ]
  },
  {
   "cell_type": "code",
   "execution_count": 4,
   "metadata": {},
   "outputs": [
    {
     "name": "stdout",
     "output_type": "stream",
     "text": [
      "(351, 202) (351, 202) (351, 202)\n"
     ]
    }
   ],
   "source": [
    "methy_df = pd.read_csv(methy_path, index_col=0)\n",
    "mirna_df = pd.read_csv(mirna_path, index_col=0)\n",
    "mrna_df = pd.read_csv(mrna_path, index_col=0)\n",
    "print(methy_df.shape, mirna_df.shape, mrna_df.shape)"
   ]
  },
  {
   "cell_type": "code",
   "execution_count": 4,
   "metadata": {},
   "outputs": [],
   "source": [
    "methy_df_wol = methy_df.drop('Label', axis=1)\n",
    "mirna_df_wol = mirna_df.drop('Label', axis=1)\n",
    "mrna_df_wol = mrna_df.drop('Label', axis=1)\n",
    "methy_df_wos = methy_df_wol.drop('Split', axis=1)\n",
    "mirna_df_wos = mirna_df_wol.drop('Split', axis=1)\n",
    "mrna_df_wos = mrna_df_wol.drop('Split', axis=1)\n",
    "\n",
    "combined_df = pd.concat([methy_df_wos, mirna_df_wos, mrna_df_wos], axis=1)\n",
    "combined_df['Label'] = methy_df['Label']\n",
    "combined_df['Split'] = methy_df['Split']"
   ]
  },
  {
   "cell_type": "code",
   "execution_count": 5,
   "metadata": {},
   "outputs": [],
   "source": [
    "def get_train_test(df):\n",
    "    train_df = df[df['Split'] == 1].drop('Split', axis=1)\n",
    "    test_df = df[df['Split'] == 0].drop('Split', axis=1)\n",
    "    y_train = train_df.pop('Label')\n",
    "    y_test = test_df.pop('Label')\n",
    "    return train_df, test_df, y_train, y_test"
   ]
  },
  {
   "cell_type": "code",
   "execution_count": 6,
   "metadata": {},
   "outputs": [],
   "source": [
    "X_train, X_test, y_train, y_test = get_train_test(combined_df)"
   ]
  },
  {
   "cell_type": "code",
   "execution_count": 7,
   "metadata": {},
   "outputs": [],
   "source": [
    "# from sklearn.preprocessing import MinMaxScaler\n",
    "# scaler = MinMaxScaler()\n",
    "# X_train_scaled = scaler.fit_transform(X_train)\n",
    "# X_test_scaled = scaler.transform(X_test)\n",
    "\n",
    "# Accuracy:  0.8584905660377359\n",
    "# F1 score:  0.8571428571428572\n",
    "# Recall:  0.8181818181818182\n",
    "# Precision:  0.9\n",
    "# Cohen Kappa:  0.7175843694493784\n",
    "# Matthews Corr:  0.7207853001714266"
   ]
  },
  {
   "cell_type": "code",
   "execution_count": 8,
   "metadata": {},
   "outputs": [],
   "source": [
    "# from sklearn.preprocessing import RobustScaler\n",
    "\n",
    "# scaler = RobustScaler()\n",
    "# X_train_scaled = scaler.fit_transform(X_train)\n",
    "# X_test_scaled = scaler.transform(X_test)\n",
    "\n",
    "# Accuracy:  0.7924528301886793\n",
    "# F1 score:  0.7962962962962964\n",
    "# Recall:  0.7818181818181819\n",
    "# Precision:  0.8113207547169812\n",
    "# Cohen Kappa:  0.5849056603773585\n",
    "# Matthews Corr:  0.5853225568382547\n"
   ]
  },
  {
   "cell_type": "code",
   "execution_count": 9,
   "metadata": {},
   "outputs": [],
   "source": [
    "# from sklearn.preprocessing import MaxAbsScaler\n",
    "\n",
    "# scaler = MaxAbsScaler()\n",
    "# X_train_scaled = scaler.fit_transform(X_train)\n",
    "# X_test_scaled = scaler.transform(X_test)\n",
    "\n",
    "# Accuracy:  0.7358490566037735\n",
    "# F1 score:  0.6956521739130435\n",
    "# Recall:  0.5818181818181818\n",
    "# Precision:  0.8648648648648649\n",
    "# Cohen Kappa:  0.4776487152411123\n",
    "# Matthews Corr:  0.5070934576494096\n"
   ]
  },
  {
   "cell_type": "code",
   "execution_count": 10,
   "metadata": {},
   "outputs": [],
   "source": [
    "# from sklearn.preprocessing import QuantileTransformer\n",
    "\n",
    "# scaler = QuantileTransformer(output_distribution='uniform')\n",
    "# X_train_scaled = scaler.fit_transform(X_train)\n",
    "# X_test_scaled = scaler.transform(X_test)\n",
    "\n",
    "\n",
    "# Accuracy:  0.7924528301886793\n",
    "# F1 score:  0.8035714285714286\n",
    "# Recall:  0.8181818181818182\n",
    "# Precision:  0.7894736842105263\n",
    "# Cohen Kappa:  0.5837200999642984\n",
    "# Matthews Corr:  0.5841385339486312"
   ]
  },
  {
   "cell_type": "code",
   "execution_count": 11,
   "metadata": {},
   "outputs": [],
   "source": [
    "min_max_scaler = StandardScaler()\n",
    "X_train_scaled = min_max_scaler.fit_transform(X_train)\n",
    "X_test_scaled = min_max_scaler.transform(X_test)"
   ]
  },
  {
   "cell_type": "code",
   "execution_count": 12,
   "metadata": {},
   "outputs": [],
   "source": [
    "input_shape = X_train_scaled.shape[1]\n",
    "input_layer = Input(shape=input_shape,)"
   ]
  },
  {
   "cell_type": "code",
   "execution_count": 13,
   "metadata": {},
   "outputs": [
    {
     "name": "stderr",
     "output_type": "stream",
     "text": [
      "2024-01-16 12:08:48.809449: W tensorflow/core/common_runtime/gpu/gpu_device.cc:2256] Cannot dlopen some GPU libraries. Please make sure the missing libraries mentioned above are installed properly if you would like to use GPU. Follow the guide at https://www.tensorflow.org/install/gpu for how to download and setup the required libraries for your platform.\n",
      "Skipping registering GPU devices...\n"
     ]
    }
   ],
   "source": [
    "    # Define your ANN model architecture here\n",
    "#TODO: 1. use optuna to find the best hyperparameters\n",
    "\n",
    "dense_layer1 = Dense(128, activation='relu', kernel_regularizer=l2(0.001), bias_regularizer=l2(0.001))(input_layer) #153\n",
    "dropout_layer1 = Dropout(0.3)(dense_layer1)\n",
    "batch_norm1 = tf.keras.layers.BatchNormalization()(dropout_layer1)\n",
    "\n",
    "dense_layer2 = Dense(64, activation='relu', kernel_regularizer=l2(0.001), bias_regularizer=l2(0.001))(batch_norm1) #104\n",
    "dropout_layer2 = Dropout(0.3)(dense_layer2)\n",
    "batch_norm2 = tf.keras.layers.BatchNormalization()(dropout_layer2)\n",
    "\n",
    "dense_layer3 = Dense(32, activation='relu', kernel_regularizer=l2(0.001), bias_regularizer=l2(0.001))(batch_norm2) #42\n",
    "dropout_layer3 = Dropout(0.3)(dense_layer3)\n",
    "batch_norm3 = tf.keras.layers.BatchNormalization()(dropout_layer3)\n",
    "\n",
    "dense_layer4 = Dense(16, activation='relu', kernel_regularizer=l2(0.001), bias_regularizer=l2(0.001))(batch_norm3) #16\n",
    "dropout_layer4 = Dropout(0.3)(dense_layer4)\n",
    "\n",
    "output_layer = Dense(1, activation='sigmoid')(dropout_layer4)\n",
    "\n",
    "model = Model(inputs=input_layer, outputs=output_layer)"
   ]
  },
  {
   "cell_type": "code",
   "execution_count": 14,
   "metadata": {},
   "outputs": [],
   "source": [
    "initial_learning_rate = 0.001\n",
    "lr_schedule = schedules.ExponentialDecay(\n",
    "    initial_learning_rate,\n",
    "    decay_steps=10000,\n",
    "    decay_rate=0.9,\n",
    "    staircase=True)"
   ]
  },
  {
   "cell_type": "code",
   "execution_count": 15,
   "metadata": {},
   "outputs": [],
   "source": [
    "#compiling the model\n",
    "model.compile(loss='binary_crossentropy', optimizer=Adam(learning_rate=lr_schedule), metrics=['accuracy'])"
   ]
  },
  {
   "cell_type": "code",
   "execution_count": 16,
   "metadata": {},
   "outputs": [],
   "source": [
    "early_stopping = EarlyStopping(monitor='val_loss', patience=10, restore_best_weights=True)"
   ]
  },
  {
   "cell_type": "code",
   "execution_count": 17,
   "metadata": {},
   "outputs": [],
   "source": [
    "X_train_split, X_val, y_train_split, y_val = train_test_split(X_train_scaled, y_train, test_size=0.2, random_state=42)"
   ]
  },
  {
   "cell_type": "code",
   "execution_count": 18,
   "metadata": {},
   "outputs": [
    {
     "name": "stdout",
     "output_type": "stream",
     "text": [
      "Epoch 1/500\n"
     ]
    },
    {
     "name": "stdout",
     "output_type": "stream",
     "text": [
      "4/4 [==============================] - 2s 103ms/step - loss: 1.2126 - accuracy: 0.4847 - val_loss: 1.1265 - val_accuracy: 0.4898\n",
      "Epoch 2/500\n",
      "4/4 [==============================] - 0s 15ms/step - loss: 1.1324 - accuracy: 0.5510 - val_loss: 1.1085 - val_accuracy: 0.4694\n",
      "Epoch 3/500\n",
      "4/4 [==============================] - 0s 16ms/step - loss: 1.1071 - accuracy: 0.5612 - val_loss: 1.0999 - val_accuracy: 0.4898\n",
      "Epoch 4/500\n",
      "4/4 [==============================] - 0s 15ms/step - loss: 1.0816 - accuracy: 0.5408 - val_loss: 1.0908 - val_accuracy: 0.4898\n",
      "Epoch 5/500\n",
      "4/4 [==============================] - 0s 16ms/step - loss: 1.0874 - accuracy: 0.5816 - val_loss: 1.0842 - val_accuracy: 0.4694\n",
      "Epoch 6/500\n",
      "4/4 [==============================] - 0s 16ms/step - loss: 1.0535 - accuracy: 0.5714 - val_loss: 1.0783 - val_accuracy: 0.4898\n",
      "Epoch 7/500\n",
      "4/4 [==============================] - 0s 16ms/step - loss: 1.1007 - accuracy: 0.5204 - val_loss: 1.0729 - val_accuracy: 0.4898\n",
      "Epoch 8/500\n",
      "4/4 [==============================] - 0s 17ms/step - loss: 1.0629 - accuracy: 0.5663 - val_loss: 1.0650 - val_accuracy: 0.4694\n",
      "Epoch 9/500\n",
      "4/4 [==============================] - 0s 17ms/step - loss: 1.0665 - accuracy: 0.5765 - val_loss: 1.0571 - val_accuracy: 0.4898\n",
      "Epoch 10/500\n",
      "4/4 [==============================] - 0s 17ms/step - loss: 1.0280 - accuracy: 0.6122 - val_loss: 1.0529 - val_accuracy: 0.4898\n",
      "Epoch 11/500\n",
      "4/4 [==============================] - 0s 17ms/step - loss: 1.0468 - accuracy: 0.6327 - val_loss: 1.0454 - val_accuracy: 0.5306\n",
      "Epoch 12/500\n",
      "4/4 [==============================] - 0s 18ms/step - loss: 1.0249 - accuracy: 0.6173 - val_loss: 1.0373 - val_accuracy: 0.5714\n",
      "Epoch 13/500\n",
      "4/4 [==============================] - 0s 18ms/step - loss: 0.9575 - accuracy: 0.6735 - val_loss: 1.0318 - val_accuracy: 0.5714\n",
      "Epoch 14/500\n",
      "4/4 [==============================] - 0s 18ms/step - loss: 1.0194 - accuracy: 0.6224 - val_loss: 1.0311 - val_accuracy: 0.5510\n",
      "Epoch 15/500\n",
      "4/4 [==============================] - 0s 16ms/step - loss: 1.0017 - accuracy: 0.6020 - val_loss: 1.0336 - val_accuracy: 0.5510\n",
      "Epoch 16/500\n",
      "4/4 [==============================] - 0s 14ms/step - loss: 1.0013 - accuracy: 0.6480 - val_loss: 1.0329 - val_accuracy: 0.5510\n",
      "Epoch 17/500\n",
      "4/4 [==============================] - 0s 17ms/step - loss: 1.0511 - accuracy: 0.5765 - val_loss: 1.0233 - val_accuracy: 0.5510\n",
      "Epoch 18/500\n",
      "4/4 [==============================] - 0s 17ms/step - loss: 0.9848 - accuracy: 0.6684 - val_loss: 1.0187 - val_accuracy: 0.5510\n",
      "Epoch 19/500\n",
      "4/4 [==============================] - 0s 17ms/step - loss: 0.9536 - accuracy: 0.6990 - val_loss: 1.0145 - val_accuracy: 0.5510\n",
      "Epoch 20/500\n",
      "4/4 [==============================] - 0s 16ms/step - loss: 0.9857 - accuracy: 0.6735 - val_loss: 1.0129 - val_accuracy: 0.5714\n",
      "Epoch 21/500\n",
      "4/4 [==============================] - 0s 16ms/step - loss: 1.0219 - accuracy: 0.6020 - val_loss: 1.0141 - val_accuracy: 0.5714\n",
      "Epoch 22/500\n",
      "4/4 [==============================] - 0s 16ms/step - loss: 1.0132 - accuracy: 0.6020 - val_loss: 1.0144 - val_accuracy: 0.5306\n",
      "Epoch 23/500\n",
      "4/4 [==============================] - 0s 16ms/step - loss: 1.0176 - accuracy: 0.5918 - val_loss: 1.0128 - val_accuracy: 0.5510\n",
      "Epoch 24/500\n",
      "4/4 [==============================] - 0s 16ms/step - loss: 0.9797 - accuracy: 0.6429 - val_loss: 1.0135 - val_accuracy: 0.5714\n",
      "Epoch 25/500\n",
      "4/4 [==============================] - 0s 15ms/step - loss: 0.9387 - accuracy: 0.6582 - val_loss: 1.0156 - val_accuracy: 0.5714\n",
      "Epoch 26/500\n",
      "4/4 [==============================] - 0s 15ms/step - loss: 0.9365 - accuracy: 0.6939 - val_loss: 1.0160 - val_accuracy: 0.5714\n",
      "Epoch 27/500\n",
      "4/4 [==============================] - 0s 15ms/step - loss: 0.9133 - accuracy: 0.6837 - val_loss: 1.0189 - val_accuracy: 0.5714\n",
      "Epoch 28/500\n",
      "4/4 [==============================] - 0s 16ms/step - loss: 0.9471 - accuracy: 0.6684 - val_loss: 1.0205 - val_accuracy: 0.5714\n",
      "Epoch 29/500\n",
      "4/4 [==============================] - 0s 15ms/step - loss: 0.9491 - accuracy: 0.6990 - val_loss: 1.0203 - val_accuracy: 0.5918\n",
      "Epoch 30/500\n",
      "4/4 [==============================] - 0s 15ms/step - loss: 0.9352 - accuracy: 0.6837 - val_loss: 1.0194 - val_accuracy: 0.6122\n",
      "Epoch 31/500\n",
      "4/4 [==============================] - 0s 15ms/step - loss: 0.9702 - accuracy: 0.6582 - val_loss: 1.0195 - val_accuracy: 0.5918\n",
      "Epoch 32/500\n",
      "4/4 [==============================] - 0s 15ms/step - loss: 0.9266 - accuracy: 0.7143 - val_loss: 1.0237 - val_accuracy: 0.5714\n",
      "Epoch 33/500\n",
      "4/4 [==============================] - 0s 20ms/step - loss: 0.9147 - accuracy: 0.6786 - val_loss: 1.0269 - val_accuracy: 0.5714\n"
     ]
    }
   ],
   "source": [
    "history = model.fit(X_train_split, y_train_split, epochs=500, batch_size=64, validation_data=(X_val, y_val), callbacks=[early_stopping])"
   ]
  },
  {
   "cell_type": "code",
   "execution_count": 19,
   "metadata": {},
   "outputs": [
    {
     "data": {
      "image/png": "[encoded data removed]",
      "text/plain": [
       "<Figure size 640x480 with 1 Axes>"
      ]
     },
     "metadata": {},
     "output_type": "display_data"
    }
   ],
   "source": [
    "plt.plot(history.history['accuracy'], label='train')\n",
    "plt.plot(history.history['val_accuracy'], label='test')\n",
    "plt.legend()\n",
    "plt.xlabel('Epoch')\n",
    "plt.ylabel('Accuracy')\n",
    "plt.show()"
   ]
  },
  {
   "cell_type": "code",
   "execution_count": 20,
   "metadata": {},
   "outputs": [
    {
     "name": "stdout",
     "output_type": "stream",
     "text": [
      "4/4 [==============================] - 0s 2ms/step\n",
      "Accuracy:  0.660377358490566\n",
      "F1 score:  0.6538461538461539\n",
      "Recall:  0.6181818181818182\n",
      "Precision:  0.6938775510204082\n",
      "Cohen Kappa:  0.3226837060702875\n",
      "Matthews Corr:  0.32475958859896376\n"
     ]
    }
   ],
   "source": [
    "y_pred = model.predict(X_test_scaled)\n",
    "y_pred_class = np.where(y_pred > 0.5, 1, 0)\n",
    "print('Accuracy: ', accuracy_score(y_test, y_pred_class))\n",
    "print('F1 score: ', f1_score(y_test, y_pred_class))\n",
    "print('Recall: ', recall_score(y_test, y_pred_class))\n",
    "print('Precision: ', precision_score(y_test, y_pred_class))\n",
    "print('Cohen Kappa: ', cohen_kappa_score(y_test, y_pred_class))\n",
    "print('Matthews Corr: ', matthews_corrcoef(y_test, y_pred_class))\n"
   ]
  },
  {
   "cell_type": "code",
   "execution_count": null,
   "metadata": {},
   "outputs": [],
   "source": []
  }
 ],
 "metadata": {
  "kernelspec": {
   "display_name": "ADomics",
   "language": "python",
   "name": "python3"
  },
  "language_info": {
   "codemirror_mode": {
    "name": "ipython",
    "version": 3
   },
   "file_extension": ".py",
   "mimetype": "text/x-python",
   "name": "python",
   "nbconvert_exporter": "python",
   "pygments_lexer": "ipython3",
   "version": "3.9.18"
  }
 },
 "nbformat": 4,
 "nbformat_minor": 2
}
