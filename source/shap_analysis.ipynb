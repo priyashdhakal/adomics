{
 "cells": [
  {
   "cell_type": "code",
   "execution_count": 1,
   "metadata": {},
   "outputs": [
    {
     "name": "stderr",
     "output_type": "stream",
     "text": [
      "2024-02-18 01:18:28.117739: I external/local_tsl/tsl/cuda/cudart_stub.cc:31] Could not find cuda drivers on your machine, GPU will not be used.\n",
      "2024-02-18 01:18:28.423369: E external/local_xla/xla/stream_executor/cuda/cuda_dnn.cc:9261] Unable to register cuDNN factory: Attempting to register factory for plugin cuDNN when one has already been registered\n",
      "2024-02-18 01:18:28.423424: E external/local_xla/xla/stream_executor/cuda/cuda_fft.cc:607] Unable to register cuFFT factory: Attempting to register factory for plugin cuFFT when one has already been registered\n",
      "2024-02-18 01:18:28.452798: E external/local_xla/xla/stream_executor/cuda/cuda_blas.cc:1515] Unable to register cuBLAS factory: Attempting to register factory for plugin cuBLAS when one has already been registered\n",
      "2024-02-18 01:18:28.535083: I external/local_tsl/tsl/cuda/cudart_stub.cc:31] Could not find cuda drivers on your machine, GPU will not be used.\n",
      "2024-02-18 01:18:28.537275: I tensorflow/core/platform/cpu_feature_guard.cc:182] This TensorFlow binary is optimized to use available CPU instructions in performance-critical operations.\n",
      "To enable the following instructions: AVX2 FMA, in other operations, rebuild TensorFlow with the appropriate compiler flags.\n",
      "2024-02-18 01:18:29.729602: W tensorflow/compiler/tf2tensorrt/utils/py_utils.cc:38] TF-TRT Warning: Could not find TensorRT\n"
     ]
    }
   ],
   "source": [
    "# Kernel = ADomics\n",
    "import pandas as pd\n",
    "import numpy as np\n",
    "import matplotlib.pyplot as plt\n",
    "import os\n",
    "import tensorflow as tf\n",
    "import keras\n",
    "from sklearn.preprocessing import StandardScaler\n",
    "from tensorflow.keras.models import Sequential\n",
    "from tensorflow.keras.layers import Dense, Dropout, Input, Concatenate, Conv1D, GlobalMaxPool1D\n",
    "from tensorflow.keras.callbacks import EarlyStopping\n",
    "from tensorflow.keras.optimizers import Adam\n",
    "from tensorflow.keras.models import Model\n",
    "from tensorflow.keras import regularizers\n",
    "from sklearn.decomposition import PCA\n",
    "import optuna \n",
    "from optuna.samplers import TPESampler\n",
    "from sklearn.metrics import accuracy_score, recall_score, precision_score, f1_score\n",
    "\n",
    "seed = 123\n",
    "np.random.seed(seed)\n",
    "tf.random.set_seed(seed)\n",
    "keras.utils.set_random_seed(seed)"
   ]
  },
  {
   "cell_type": "code",
   "execution_count": 2,
   "metadata": {},
   "outputs": [],
   "source": [
    "def get_train_test(df):\n",
    "    train_df = df[df['Split']==1].drop('Split', axis=1)\n",
    "    test_df = df[df['Split']==0].drop('Split', axis=1)\n",
    "    y_train = train_df['Label']\n",
    "    y_test = test_df['Label']\n",
    "    return train_df.drop('Label', axis=1), test_df.drop('Label', axis=1), y_train, y_test\n"
   ]
  },
  {
   "cell_type": "code",
   "execution_count": 3,
   "metadata": {},
   "outputs": [],
   "source": [
    "def correlation(dataset, threshold):\n",
    "    col_corr = set()  # Set of all the names of correlated columns\n",
    "    corr_matrix = dataset.corr()\n",
    "    for i in range(len(corr_matrix.columns)):\n",
    "        for j in range(i):\n",
    "            if abs(corr_matrix.iloc[i, j]) > threshold: # we are interested in absolute coeff value\n",
    "                colname = corr_matrix.columns[i]  # getting the name of column\n",
    "                col_corr.add(colname)\n",
    "    return col_corr"
   ]
  },
  {
   "cell_type": "code",
   "execution_count": 4,
   "metadata": {},
   "outputs": [
    {
     "name": "stdout",
     "output_type": "stream",
     "text": [
      "methy correlated features:  18\n",
      "mirna correlated features:  6\n",
      "mrna correlated features:  0\n"
     ]
    }
   ],
   "source": [
    "BASE_PATH = '../data/ROSMAP/'\n",
    "methy_path = os.path.join(BASE_PATH, 'methy.csv')\n",
    "mirna_path = os.path.join(BASE_PATH, 'mirna.csv')\n",
    "mrna_path = os.path.join(BASE_PATH, 'mrna.csv')\n",
    "if not os.path.exists(methy_path) or not os.path.exists(mirna_path) or not os.path.exists(mrna_path):\n",
    "    raise Exception('File not found')\n",
    "\n",
    "methy_df = pd.read_csv(methy_path, index_col=0)\n",
    "mirna_df = pd.read_csv(mirna_path, index_col=0)\n",
    "mrna_df = pd.read_csv(mrna_path, index_col=0)\n",
    "\n",
    "methy_train_df, methy_test_df, methy_y_train, methy_y_test = get_train_test(methy_df)\n",
    "mirna_train_df, mirna_test_df, mirna_y_train, mirna_y_test = get_train_test(mirna_df)\n",
    "mrna_train_df, mrna_test_df, mrna_y_train, mrna_y_test = get_train_test(mrna_df)\n",
    "\n",
    "methy_corr_features = correlation(methy_train_df, 0.85)\n",
    "print('methy correlated features: ', len(methy_corr_features))\n",
    "mirna_corr_features = correlation(mirna_train_df, 0.85)\n",
    "print('mirna correlated features: ', len(mirna_corr_features))\n",
    "mrna_corr_features = correlation(mrna_train_df, 0.85)\n",
    "print('mrna correlated features: ', len(mrna_corr_features))\n",
    "\n",
    "methy_train_df.drop(methy_corr_features, axis=1, inplace=True)\n",
    "mirna_train_df.drop(mirna_corr_features, axis=1, inplace=True)\n",
    "mrna_train_df.drop(mrna_corr_features, axis=1, inplace=True)\n",
    "\n",
    "methy_test_df.drop(methy_corr_features, axis=1, inplace=True)\n",
    "mirna_test_df.drop(mirna_corr_features, axis=1, inplace=True)\n",
    "mrna_test_df.drop(mrna_corr_features, axis=1, inplace=True)\n",
    "\n",
    "scaler_methy = StandardScaler()\n",
    "scaler_mirna = StandardScaler()\n",
    "scaler_mrna = StandardScaler()\n",
    "\n",
    "methy_train_scaled = scaler_methy.fit_transform(methy_train_df)\n",
    "methy_test_scaled = scaler_methy.transform(methy_test_df)\n",
    "\n",
    "mirna_train_scaled = scaler_mirna.fit_transform(mirna_train_df)\n",
    "mirna_test_scaled = scaler_mirna.transform(mirna_test_df)\n",
    "\n",
    "mrna_train_scaled = scaler_mrna.fit_transform(mrna_train_df)\n",
    "mrna_test_scaled = scaler_mrna.transform(mrna_test_df)"
   ]
  },
  {
   "cell_type": "code",
   "execution_count": 5,
   "metadata": {},
   "outputs": [],
   "source": [
    "def create_branch(input_layer):\n",
    "    dense_methy = Dense(128, activation='relu', kernel_regularizer=regularizers.l1(0.001))(input_layer)\n",
    "    dense_methy = Dropout(0.5)(dense_methy)\n",
    "    dense_methy = Dense(64, activation='relu', kernel_regularizer=regularizers.l1(0.001))(dense_methy)\n",
    "    dense_methy = Dropout(0.3)(dense_methy)\n",
    "    dense_methy = Dense(32, activation='relu', kernel_regularizer=regularizers.l1(0.001))(dense_methy)\n",
    "    dense_methy = Dropout(0.2)(dense_methy)\n",
    "    return dense_methy"
   ]
  },
  {
   "cell_type": "code",
   "execution_count": 6,
   "metadata": {},
   "outputs": [
    {
     "data": {
      "text/html": [
       "<div>\n",
       "<style scoped>\n",
       "    .dataframe tbody tr th:only-of-type {\n",
       "        vertical-align: middle;\n",
       "    }\n",
       "\n",
       "    .dataframe tbody tr th {\n",
       "        vertical-align: top;\n",
       "    }\n",
       "\n",
       "    .dataframe thead th {\n",
       "        text-align: right;\n",
       "    }\n",
       "</style>\n",
       "<table border=\"1\" class=\"dataframe\">\n",
       "  <thead>\n",
       "    <tr style=\"text-align: right;\">\n",
       "      <th></th>\n",
       "      <th>Unnamed: 0</th>\n",
       "      <th>number</th>\n",
       "      <th>value</th>\n",
       "      <th>datetime_start</th>\n",
       "      <th>datetime_complete</th>\n",
       "      <th>duration</th>\n",
       "      <th>params_learning_rate</th>\n",
       "      <th>params_merged_1_dropout</th>\n",
       "      <th>params_merged_1_size</th>\n",
       "      <th>params_merged_2_dropout</th>\n",
       "      <th>params_merged_2_size</th>\n",
       "      <th>params_merged_3_dropout</th>\n",
       "      <th>params_merged_3_size</th>\n",
       "      <th>state</th>\n",
       "    </tr>\n",
       "  </thead>\n",
       "  <tbody>\n",
       "    <tr>\n",
       "      <th>0</th>\n",
       "      <td>0</td>\n",
       "      <td>0</td>\n",
       "      <td>0.518868</td>\n",
       "      <td>2024-01-31 12:56:04.730488</td>\n",
       "      <td>2024-01-31 12:56:29.358266</td>\n",
       "      <td>0 days 00:00:24.627778</td>\n",
       "      <td>0.083764</td>\n",
       "      <td>0.320526</td>\n",
       "      <td>198</td>\n",
       "      <td>0.387788</td>\n",
       "      <td>59</td>\n",
       "      <td>0.269243</td>\n",
       "      <td>27</td>\n",
       "      <td>COMPLETE</td>\n",
       "    </tr>\n",
       "    <tr>\n",
       "      <th>1</th>\n",
       "      <td>1</td>\n",
       "      <td>1</td>\n",
       "      <td>0.801887</td>\n",
       "      <td>2024-01-31 12:56:29.359104</td>\n",
       "      <td>2024-01-31 12:57:10.503498</td>\n",
       "      <td>0 days 00:00:41.144394</td>\n",
       "      <td>0.000017</td>\n",
       "      <td>0.237271</td>\n",
       "      <td>196</td>\n",
       "      <td>0.391620</td>\n",
       "      <td>78</td>\n",
       "      <td>0.275429</td>\n",
       "      <td>35</td>\n",
       "      <td>COMPLETE</td>\n",
       "    </tr>\n",
       "    <tr>\n",
       "      <th>2</th>\n",
       "      <td>2</td>\n",
       "      <td>2</td>\n",
       "      <td>0.764151</td>\n",
       "      <td>2024-01-31 12:57:10.504533</td>\n",
       "      <td>2024-01-31 12:57:25.629094</td>\n",
       "      <td>0 days 00:00:15.124561</td>\n",
       "      <td>0.003448</td>\n",
       "      <td>0.170181</td>\n",
       "      <td>140</td>\n",
       "      <td>0.312621</td>\n",
       "      <td>103</td>\n",
       "      <td>0.312731</td>\n",
       "      <td>24</td>\n",
       "      <td>COMPLETE</td>\n",
       "    </tr>\n",
       "    <tr>\n",
       "      <th>3</th>\n",
       "      <td>3</td>\n",
       "      <td>3</td>\n",
       "      <td>0.754717</td>\n",
       "      <td>2024-01-31 12:57:25.630214</td>\n",
       "      <td>2024-01-31 12:58:07.609649</td>\n",
       "      <td>0 days 00:00:41.979435</td>\n",
       "      <td>0.000082</td>\n",
       "      <td>0.388977</td>\n",
       "      <td>227</td>\n",
       "      <td>0.229184</td>\n",
       "      <td>102</td>\n",
       "      <td>0.244715</td>\n",
       "      <td>45</td>\n",
       "      <td>COMPLETE</td>\n",
       "    </tr>\n",
       "    <tr>\n",
       "      <th>4</th>\n",
       "      <td>4</td>\n",
       "      <td>4</td>\n",
       "      <td>0.773585</td>\n",
       "      <td>2024-01-31 12:58:07.610695</td>\n",
       "      <td>2024-01-31 12:58:27.567769</td>\n",
       "      <td>0 days 00:00:19.957074</td>\n",
       "      <td>0.000505</td>\n",
       "      <td>0.273480</td>\n",
       "      <td>120</td>\n",
       "      <td>0.272345</td>\n",
       "      <td>93</td>\n",
       "      <td>0.297474</td>\n",
       "      <td>20</td>\n",
       "      <td>COMPLETE</td>\n",
       "    </tr>\n",
       "  </tbody>\n",
       "</table>\n",
       "</div>"
      ],
      "text/plain": [
       "   Unnamed: 0  number     value              datetime_start  \\\n",
       "0           0       0  0.518868  2024-01-31 12:56:04.730488   \n",
       "1           1       1  0.801887  2024-01-31 12:56:29.359104   \n",
       "2           2       2  0.764151  2024-01-31 12:57:10.504533   \n",
       "3           3       3  0.754717  2024-01-31 12:57:25.630214   \n",
       "4           4       4  0.773585  2024-01-31 12:58:07.610695   \n",
       "\n",
       "            datetime_complete                duration  params_learning_rate  \\\n",
       "0  2024-01-31 12:56:29.358266  0 days 00:00:24.627778              0.083764   \n",
       "1  2024-01-31 12:57:10.503498  0 days 00:00:41.144394              0.000017   \n",
       "2  2024-01-31 12:57:25.629094  0 days 00:00:15.124561              0.003448   \n",
       "3  2024-01-31 12:58:07.609649  0 days 00:00:41.979435              0.000082   \n",
       "4  2024-01-31 12:58:27.567769  0 days 00:00:19.957074              0.000505   \n",
       "\n",
       "   params_merged_1_dropout  params_merged_1_size  params_merged_2_dropout  \\\n",
       "0                 0.320526                   198                 0.387788   \n",
       "1                 0.237271                   196                 0.391620   \n",
       "2                 0.170181                   140                 0.312621   \n",
       "3                 0.388977                   227                 0.229184   \n",
       "4                 0.273480                   120                 0.272345   \n",
       "\n",
       "   params_merged_2_size  params_merged_3_dropout  params_merged_3_size  \\\n",
       "0                    59                 0.269243                    27   \n",
       "1                    78                 0.275429                    35   \n",
       "2                   103                 0.312731                    24   \n",
       "3                   102                 0.244715                    45   \n",
       "4                    93                 0.297474                    20   \n",
       "\n",
       "      state  \n",
       "0  COMPLETE  \n",
       "1  COMPLETE  \n",
       "2  COMPLETE  \n",
       "3  COMPLETE  \n",
       "4  COMPLETE  "
      ]
     },
     "execution_count": 6,
     "metadata": {},
     "output_type": "execute_result"
    }
   ],
   "source": [
    "all_trials_df_path = \"/home/dhakal/MoBI/media/new_trials.csv\"\n",
    "all_trials_df = pd.read_csv(all_trials_df_path)\n",
    "all_trials_df.head()"
   ]
  },
  {
   "cell_type": "code",
   "execution_count": 9,
   "metadata": {},
   "outputs": [
    {
     "name": "stdout",
     "output_type": "stream",
     "text": [
      "Unnamed: 0                                        869\n",
      "number                                            869\n",
      "value                                        0.877358\n",
      "datetime_start             2024-01-31 20:50:24.486755\n",
      "datetime_complete          2024-01-31 20:50:35.066971\n",
      "duration                       0 days 00:00:10.580216\n",
      "params_learning_rate                         0.016711\n",
      "params_merged_1_dropout                      0.308161\n",
      "params_merged_1_size                              215\n",
      "params_merged_2_dropout                      0.184207\n",
      "params_merged_2_size                               76\n",
      "params_merged_3_dropout                      0.145381\n",
      "params_merged_3_size                               64\n",
      "state                                        COMPLETE\n",
      "Name: 869, dtype: object\n"
     ]
    }
   ],
   "source": [
    "# get the column where values is highest \n",
    "best_trial = all_trials_df.loc[all_trials_df['value'].idxmax()]\n",
    "print(best_trial)"
   ]
  },
  {
   "cell_type": "code",
   "execution_count": 10,
   "metadata": {},
   "outputs": [],
   "source": [
    "def get_model(trial):\n",
    "    merged_1_size = trial.params_merged_1_size\n",
    "    merged_2_size = trial.params_merged_2_size\n",
    "    merged_3_size = trial.params_merged_3_size\n",
    "    merged_1_dropout = trial.params_merged_1_dropout\n",
    "    merged_2_dropout = trial.params_merged_2_dropout\n",
    "    merged_3_dropout = trial.params_merged_3_dropout\n",
    "    learning_rate = trial.params_learning_rate\n",
    "\n",
    "\n",
    "    input_methy = Input(shape=(methy_train_scaled.shape[1],), name='methy')\n",
    "    input_mirna = Input(shape=(mirna_train_scaled.shape[1],), name='mirna')\n",
    "    input_mrna = Input(shape=(mrna_train_scaled.shape[1],), name='mrna')\n",
    "    methy_branch = create_branch(input_methy)\n",
    "    mirna_branch = create_branch(input_mirna)\n",
    "    mrna_branch = create_branch(input_mrna)\n",
    "    merged = Concatenate()([methy_branch, mirna_branch, mrna_branch])\n",
    "    merged_dense = Dense(merged_1_size, activation='relu', kernel_regularizer=regularizers.l1(0.001),name = \"merged_1\" )(merged)\n",
    "    merged_dense = Dropout(merged_1_dropout)(merged_dense)\n",
    "    merged_dense = Dense(merged_2_size, activation='relu', kernel_regularizer=regularizers.l1(0.001), name = \"merged_2\")(merged_dense)\n",
    "    merged_dense = Dropout(merged_2_dropout)(merged_dense)\n",
    "    merged_dense = Dense(merged_3_size, activation='relu', kernel_regularizer=regularizers.l1(0.001), name = \"merged_3\")(merged_dense)\n",
    "    merged_dense = Dropout(merged_3_dropout)(merged_dense)\n",
    "    # merged_dense = Dense(16, activation='relu', kernel_regularizer=regularizers.l1(0.001))(merged_dense)\n",
    "    # merged_dense = Dropout(0.2)(merged_dense)\n",
    "\n",
    "    output = Dense(1, activation='sigmoid', name = \"merged_out\")(merged_dense)\n",
    "    optimizer = tf.keras.optimizers.Adam(learning_rate=learning_rate)\n",
    "    model = Model(inputs=[input_methy, input_mirna, input_mrna], outputs=output)\n",
    "    model.compile(optimizer=optimizer, loss='binary_crossentropy', metrics=['accuracy'])\n",
    "    return model"
   ]
  },
  {
   "cell_type": "code",
   "execution_count": 11,
   "metadata": {},
   "outputs": [
    {
     "name": "stderr",
     "output_type": "stream",
     "text": [
      "2024-02-18 01:22:44.615218: W tensorflow/core/common_runtime/gpu/gpu_device.cc:2256] Cannot dlopen some GPU libraries. Please make sure the missing libraries mentioned above are installed properly if you would like to use GPU. Follow the guide at https://www.tensorflow.org/install/gpu for how to download and setup the required libraries for your platform.\n",
      "Skipping registering GPU devices...\n"
     ]
    }
   ],
   "source": [
    "model = get_model(best_trial)"
   ]
  },
  {
   "cell_type": "code",
   "execution_count": 12,
   "metadata": {},
   "outputs": [],
   "source": [
    "weights_path = \"/home/dhakal/MoBI/media/best_model.h5\"\n",
    "model.load_weights(weights_path)"
   ]
  },
  {
   "cell_type": "code",
   "execution_count": 13,
   "metadata": {},
   "outputs": [
    {
     "name": "stdout",
     "output_type": "stream",
     "text": [
      "4/4 [==============================] - 0s 2ms/step\n",
      "0.8773584905660378\n"
     ]
    }
   ],
   "source": [
    "y_pred = model.predict([methy_test_scaled, mirna_test_scaled, mrna_test_scaled])\n",
    "y_pred = np.where(y_pred > 0.5, 1, 0)\n",
    "acc = accuracy_score(methy_y_test, y_pred)\n",
    "print(acc)"
   ]
  },
  {
   "cell_type": "code",
   "execution_count": null,
   "metadata": {},
   "outputs": [],
   "source": []
  }
 ],
 "metadata": {
  "kernelspec": {
   "display_name": "ADomics",
   "language": "python",
   "name": "python3"
  },
  "language_info": {
   "codemirror_mode": {
    "name": "ipython",
    "version": 3
   },
   "file_extension": ".py",
   "mimetype": "text/x-python",
   "name": "python",
   "nbconvert_exporter": "python",
   "pygments_lexer": "ipython3",
   "version": "3.9.18"
  }
 },
 "nbformat": 4,
 "nbformat_minor": 2
}
