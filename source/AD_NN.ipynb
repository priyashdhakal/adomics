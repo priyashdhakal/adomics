{
 "cells": [
  {
   "cell_type": "code",
   "execution_count": 1,
   "metadata": {},
   "outputs": [
    {
     "name": "stderr",
     "output_type": "stream",
     "text": [
      "2024-02-02 10:42:35.426136: I external/local_tsl/tsl/cuda/cudart_stub.cc:31] Could not find cuda drivers on your machine, GPU will not be used.\n",
      "2024-02-02 10:42:35.494087: E external/local_xla/xla/stream_executor/cuda/cuda_dnn.cc:9261] Unable to register cuDNN factory: Attempting to register factory for plugin cuDNN when one has already been registered\n",
      "2024-02-02 10:42:35.494122: E external/local_xla/xla/stream_executor/cuda/cuda_fft.cc:607] Unable to register cuFFT factory: Attempting to register factory for plugin cuFFT when one has already been registered\n",
      "2024-02-02 10:42:35.495915: E external/local_xla/xla/stream_executor/cuda/cuda_blas.cc:1515] Unable to register cuBLAS factory: Attempting to register factory for plugin cuBLAS when one has already been registered\n",
      "2024-02-02 10:42:35.505661: I external/local_tsl/tsl/cuda/cudart_stub.cc:31] Could not find cuda drivers on your machine, GPU will not be used.\n",
      "2024-02-02 10:42:35.506311: I tensorflow/core/platform/cpu_feature_guard.cc:182] This TensorFlow binary is optimized to use available CPU instructions in performance-critical operations.\n",
      "To enable the following instructions: AVX2 FMA, in other operations, rebuild TensorFlow with the appropriate compiler flags.\n",
      "2024-02-02 10:42:36.674006: W tensorflow/compiler/tf2tensorrt/utils/py_utils.cc:38] TF-TRT Warning: Could not find TensorRT\n"
     ]
    }
   ],
   "source": [
    "import pandas as pd\n",
    "import numpy as np\n",
    "import matplotlib.pyplot as plt\n",
    "import os\n",
    "import tensorflow as tf\n",
    "import keras\n",
    "from sklearn.preprocessing import StandardScaler\n",
    "from tensorflow.keras.models import Sequential\n",
    "from tensorflow.keras.layers import Dense, Dropout, Input, Concatenate, Conv1D, GlobalMaxPool1D\n",
    "from tensorflow.keras.callbacks import EarlyStopping\n",
    "from tensorflow.keras.optimizers import Adam\n",
    "from tensorflow.keras.models import Model\n",
    "from tensorflow.keras import regularizers\n",
    "from sklearn.decomposition import PCA\n",
    "\n",
    "from sklearn.metrics import accuracy_score, recall_score, precision_score, f1_score\n",
    "\n",
    "seed = 123\n",
    "np.random.seed(seed)\n",
    "tf.random.set_seed(seed)\n",
    "keras.utils.set_random_seed(seed)"
   ]
  },
  {
   "cell_type": "code",
   "execution_count": 2,
   "metadata": {},
   "outputs": [],
   "source": [
    "BASE_PATH = 'data/ROSMAP/'\n",
    "methy_path = os.path.join(BASE_PATH, 'methy.csv')\n",
    "mirna_path = os.path.join(BASE_PATH, 'mirna.csv')\n",
    "mrna_path = os.path.join(BASE_PATH, 'mrna.csv')\n",
    "if not os.path.exists(methy_path) or not os.path.exists(mirna_path) or not os.path.exists(mrna_path):\n",
    "    raise Exception('File not found')"
   ]
  },
  {
   "cell_type": "code",
   "execution_count": 3,
   "metadata": {},
   "outputs": [],
   "source": [
    "methy_df = pd.read_csv(methy_path, index_col=0)\n",
    "mirna_df = pd.read_csv(mirna_path, index_col=0)\n",
    "mrna_df = pd.read_csv(mrna_path, index_col=0)"
   ]
  },
  {
   "cell_type": "code",
   "execution_count": 4,
   "metadata": {},
   "outputs": [],
   "source": [
    "def get_train_test(df):\n",
    "    train_df = df[df['Split']==1].drop('Split', axis=1)\n",
    "    test_df = df[df['Split']==0].drop('Split', axis=1)\n",
    "    y_train = train_df['Label']\n",
    "    y_test = test_df['Label']\n",
    "    return train_df.drop('Label', axis=1), test_df.drop('Label', axis=1), y_train, y_test"
   ]
  },
  {
   "cell_type": "code",
   "execution_count": 5,
   "metadata": {},
   "outputs": [
    {
     "name": "stdout",
     "output_type": "stream",
     "text": [
      "(245, 200) (245, 200) (245, 200)\n",
      "(106, 200) (106, 200) (106, 200)\n",
      "(245,) (245,) (245,)\n",
      "(106,) (106,) (106,)\n"
     ]
    }
   ],
   "source": [
    "methy_train_df, methy_test_df, methy_y_train, methy_y_test = get_train_test(methy_df)\n",
    "mirna_train_df, mirna_test_df, mirna_y_train, mirna_y_test = get_train_test(mirna_df)\n",
    "mrna_train_df, mrna_test_df, mrna_y_train, mrna_y_test = get_train_test(mrna_df)\n",
    "\n",
    "print(methy_train_df.shape, mirna_train_df.shape, mrna_train_df.shape)\n",
    "print(methy_test_df.shape, mirna_test_df.shape, mrna_test_df.shape)\n",
    "print(methy_y_train.shape, mirna_y_train.shape, mrna_y_train.shape)\n",
    "print(methy_y_test.shape, mirna_y_test.shape, mrna_y_test.shape)"
   ]
  },
  {
   "cell_type": "code",
   "execution_count": 6,
   "metadata": {},
   "outputs": [],
   "source": [
    "# find and remove correlated features\n",
    "def correlation(dataset, threshold):\n",
    "    col_corr = set()  # Set of all the names of correlated columns\n",
    "    corr_matrix = dataset.corr()\n",
    "    for i in range(len(corr_matrix.columns)):\n",
    "        for j in range(i):\n",
    "            if abs(corr_matrix.iloc[i, j]) > threshold: # we are interested in absolute coeff value\n",
    "                colname = corr_matrix.columns[i]  # getting the name of column\n",
    "                col_corr.add(colname)\n",
    "    return col_corr"
   ]
  },
  {
   "cell_type": "code",
   "execution_count": 7,
   "metadata": {},
   "outputs": [
    {
     "name": "stdout",
     "output_type": "stream",
     "text": [
      "methy correlated features:  18\n",
      "mirna correlated features:  6\n",
      "mrna correlated features:  0\n"
     ]
    }
   ],
   "source": [
    "methy_corr_features = correlation(methy_train_df, 0.85)\n",
    "print('methy correlated features: ', len(methy_corr_features))\n",
    "mirna_corr_features = correlation(mirna_train_df, 0.85)\n",
    "print('mirna correlated features: ', len(mirna_corr_features))\n",
    "mrna_corr_features = correlation(mrna_train_df, 0.85)\n",
    "print('mrna correlated features: ', len(mrna_corr_features))"
   ]
  },
  {
   "cell_type": "code",
   "execution_count": 8,
   "metadata": {},
   "outputs": [],
   "source": [
    "methy_train_df.drop(methy_corr_features, axis=1, inplace=True)\n",
    "mirna_train_df.drop(mirna_corr_features, axis=1, inplace=True)\n",
    "mrna_train_df.drop(mrna_corr_features, axis=1, inplace=True)\n",
    "\n",
    "methy_test_df.drop(methy_corr_features, axis=1, inplace=True)\n",
    "mirna_test_df.drop(mirna_corr_features, axis=1, inplace=True)\n",
    "mrna_test_df.drop(mrna_corr_features, axis=1, inplace=True)"
   ]
  },
  {
   "cell_type": "code",
   "execution_count": 9,
   "metadata": {},
   "outputs": [],
   "source": [
    "scaler_methy = StandardScaler()\n",
    "scaler_mirna = StandardScaler()\n",
    "scaler_mrna = StandardScaler()"
   ]
  },
  {
   "cell_type": "code",
   "execution_count": 10,
   "metadata": {},
   "outputs": [],
   "source": [
    "methy_train_scaled = scaler_methy.fit_transform(methy_train_df)\n",
    "methy_test_scaled = scaler_methy.transform(methy_test_df)\n",
    "\n",
    "mirna_train_scaled = scaler_mirna.fit_transform(mirna_train_df)\n",
    "mirna_test_scaled = scaler_mirna.transform(mirna_test_df)\n",
    "\n",
    "mrna_train_scaled = scaler_mrna.fit_transform(mrna_train_df)\n",
    "mrna_test_scaled = scaler_mrna.transform(mrna_test_df)"
   ]
  },
  {
   "cell_type": "code",
   "execution_count": 11,
   "metadata": {},
   "outputs": [
    {
     "name": "stdout",
     "output_type": "stream",
     "text": [
      "(245, 182) (245, 194) (245, 200)\n",
      "(106, 182) (106, 194) (106, 200)\n"
     ]
    }
   ],
   "source": [
    "print(methy_train_scaled.shape, mirna_train_scaled.shape, mrna_train_scaled.shape)\n",
    "print(methy_test_scaled.shape, mirna_test_scaled.shape, mrna_test_scaled.shape)"
   ]
  },
  {
   "cell_type": "code",
   "execution_count": 12,
   "metadata": {},
   "outputs": [],
   "source": [
    "input_methy = Input(shape=(methy_train_scaled.shape[1],), name='methy')\n",
    "input_mirna = Input(shape=(mirna_train_scaled.shape[1],), name='mirna')\n",
    "input_mrna = Input(shape=(mrna_train_scaled.shape[1],), name='mrna')"
   ]
  },
  {
   "cell_type": "code",
   "execution_count": 13,
   "metadata": {},
   "outputs": [],
   "source": [
    "def create_branch(input_layer):\n",
    "    dense_methy = Dense(128, activation='relu', kernel_regularizer=regularizers.l1(0.001))(input_layer)\n",
    "    dense_methy = Dropout(0.5)(dense_methy)\n",
    "    dense_methy = Dense(64, activation='relu', kernel_regularizer=regularizers.l1(0.001))(dense_methy)\n",
    "    dense_methy = Dropout(0.3)(dense_methy)\n",
    "    dense_methy = Dense(32, activation='relu', kernel_regularizer=regularizers.l1(0.001))(dense_methy)\n",
    "    dense_methy = Dropout(0.2)(dense_methy)\n",
    "    return dense_methy\n"
   ]
  },
  {
   "cell_type": "code",
   "execution_count": 14,
   "metadata": {},
   "outputs": [
    {
     "name": "stderr",
     "output_type": "stream",
     "text": [
      "2024-02-02 10:42:40.866864: W tensorflow/core/common_runtime/gpu/gpu_device.cc:2256] Cannot dlopen some GPU libraries. Please make sure the missing libraries mentioned above are installed properly if you would like to use GPU. Follow the guide at https://www.tensorflow.org/install/gpu for how to download and setup the required libraries for your platform.\n",
      "Skipping registering GPU devices...\n"
     ]
    }
   ],
   "source": [
    "methy_branch = create_branch(input_methy)\n",
    "mirna_branch = create_branch(input_mirna)\n",
    "mrna_branch = create_branch(input_mrna)\n"
   ]
  },
  {
   "cell_type": "code",
   "execution_count": 15,
   "metadata": {},
   "outputs": [],
   "source": [
    "merged = Concatenate()([methy_branch, mirna_branch, mrna_branch])\n",
    "\n",
    "merged_dense = Dense(112, activation='relu', kernel_regularizer=regularizers.l1(0.001),name = \"merged_1\" )(merged)\n",
    "merged_dense = Dropout(0.438687619)(merged_dense)\n",
    "merged_dense = Dense(49, activation='relu', kernel_regularizer=regularizers.l1(0.001), name = \"merged_2\")(merged_dense)\n",
    "merged_dense = Dropout(0.193897159)(merged_dense)\n",
    "merged_dense = Dense(63, activation='relu', kernel_regularizer=regularizers.l1(0.001), name = \"merged_3\")(merged_dense)\n",
    "merged_dense = Dropout(0.154345902)(merged_dense)\n",
    "# merged_dense = Dense(16, activation='relu', kernel_regularizer=regularizers.l1(0.001))(merged_dense)\n",
    "# merged_dense = Dropout(0.2)(merged_dense)\n",
    "\n",
    "output = Dense(1, activation='sigmoid', name = \"merged_out\")(merged_dense)\n",
    "# output = Dense(1)(merged_dense)"
   ]
  },
  {
   "cell_type": "code",
   "execution_count": 16,
   "metadata": {},
   "outputs": [],
   "source": [
    "optimizer = tf.keras.optimizers.Adam(learning_rate=0.023718015)"
   ]
  },
  {
   "cell_type": "code",
   "execution_count": 17,
   "metadata": {},
   "outputs": [],
   "source": [
    "model = Model(inputs=[input_methy, input_mirna, input_mrna], outputs=output)\n",
    "model.compile(optimizer=optimizer, loss='binary_crossentropy', metrics=['accuracy'])\n",
    "# model.summary()"
   ]
  },
  {
   "cell_type": "code",
   "execution_count": 18,
   "metadata": {},
   "outputs": [],
   "source": [
    "# tf.keras.utils.plot_model(model, show_shapes=True, show_layer_names=True)"
   ]
  },
  {
   "cell_type": "code",
   "execution_count": 19,
   "metadata": {},
   "outputs": [
    {
     "name": "stdout",
     "output_type": "stream",
     "text": [
      "Epoch 1/500\n",
      "8/8 [==============================] - 3s 65ms/step - loss: 9.5322 - accuracy: 0.4857 - val_loss: 8.1353 - val_accuracy: 0.5472\n",
      "Epoch 2/500\n",
      "8/8 [==============================] - 0s 9ms/step - loss: 7.6510 - accuracy: 0.5714 - val_loss: 6.6060 - val_accuracy: 0.7170\n",
      "Epoch 3/500\n",
      "8/8 [==============================] - 0s 9ms/step - loss: 5.8635 - accuracy: 0.6041 - val_loss: 4.7600 - val_accuracy: 0.8208\n",
      "Epoch 4/500\n",
      "8/8 [==============================] - 0s 10ms/step - loss: 4.4563 - accuracy: 0.6653 - val_loss: 3.9623 - val_accuracy: 0.7075\n",
      "Epoch 5/500\n",
      "8/8 [==============================] - 0s 11ms/step - loss: 3.7315 - accuracy: 0.5918 - val_loss: 3.2319 - val_accuracy: 0.6887\n",
      "Epoch 6/500\n",
      "8/8 [==============================] - 0s 9ms/step - loss: 2.9263 - accuracy: 0.6327 - val_loss: 2.4526 - val_accuracy: 0.7358\n",
      "Epoch 7/500\n",
      "8/8 [==============================] - 0s 10ms/step - loss: 2.3074 - accuracy: 0.6571 - val_loss: 2.0459 - val_accuracy: 0.7170\n",
      "Epoch 8/500\n",
      "8/8 [==============================] - 0s 9ms/step - loss: 1.9112 - accuracy: 0.6122 - val_loss: 1.6381 - val_accuracy: 0.7830\n",
      "Epoch 9/500\n",
      "8/8 [==============================] - 0s 10ms/step - loss: 1.6400 - accuracy: 0.6816 - val_loss: 1.4797 - val_accuracy: 0.7642\n",
      "Epoch 10/500\n",
      "8/8 [==============================] - 0s 9ms/step - loss: 1.5013 - accuracy: 0.5673 - val_loss: 1.4147 - val_accuracy: 0.6509\n",
      "Epoch 11/500\n",
      "8/8 [==============================] - 0s 10ms/step - loss: 1.3728 - accuracy: 0.5878 - val_loss: 1.2579 - val_accuracy: 0.7264\n",
      "Epoch 12/500\n",
      "8/8 [==============================] - 0s 9ms/step - loss: 1.2316 - accuracy: 0.6490 - val_loss: 1.0872 - val_accuracy: 0.7925\n",
      "Epoch 13/500\n",
      "8/8 [==============================] - 0s 9ms/step - loss: 1.1251 - accuracy: 0.6898 - val_loss: 1.0444 - val_accuracy: 0.7453\n",
      "Epoch 14/500\n",
      "8/8 [==============================] - 0s 9ms/step - loss: 1.1417 - accuracy: 0.6327 - val_loss: 1.0879 - val_accuracy: 0.7453\n",
      "Epoch 15/500\n",
      "8/8 [==============================] - 0s 8ms/step - loss: 1.1345 - accuracy: 0.6694 - val_loss: 1.0836 - val_accuracy: 0.7547\n",
      "Epoch 16/500\n",
      "8/8 [==============================] - 0s 9ms/step - loss: 1.1152 - accuracy: 0.7020 - val_loss: 0.9982 - val_accuracy: 0.7925\n",
      "Epoch 17/500\n",
      "8/8 [==============================] - 0s 10ms/step - loss: 1.0492 - accuracy: 0.7347 - val_loss: 0.9898 - val_accuracy: 0.8113\n",
      "Epoch 18/500\n",
      "8/8 [==============================] - 0s 8ms/step - loss: 1.0911 - accuracy: 0.7224 - val_loss: 1.0412 - val_accuracy: 0.7830\n",
      "Epoch 19/500\n",
      "8/8 [==============================] - 0s 9ms/step - loss: 1.1303 - accuracy: 0.7184 - val_loss: 1.0686 - val_accuracy: 0.8019\n",
      "Epoch 20/500\n",
      "8/8 [==============================] - 0s 8ms/step - loss: 1.1591 - accuracy: 0.7102 - val_loss: 1.0665 - val_accuracy: 0.8019\n",
      "Epoch 21/500\n",
      "8/8 [==============================] - 0s 9ms/step - loss: 1.1278 - accuracy: 0.7388 - val_loss: 1.0422 - val_accuracy: 0.8208\n",
      "Epoch 22/500\n",
      "8/8 [==============================] - 0s 8ms/step - loss: 1.0891 - accuracy: 0.7347 - val_loss: 1.0307 - val_accuracy: 0.8113\n",
      "Epoch 23/500\n",
      "8/8 [==============================] - 0s 9ms/step - loss: 1.1484 - accuracy: 0.7265 - val_loss: 1.0847 - val_accuracy: 0.8302\n",
      "Epoch 24/500\n",
      "8/8 [==============================] - 0s 9ms/step - loss: 1.1389 - accuracy: 0.7306 - val_loss: 1.0186 - val_accuracy: 0.8396\n",
      "Epoch 25/500\n",
      "8/8 [==============================] - 0s 12ms/step - loss: 1.0210 - accuracy: 0.8000 - val_loss: 0.9504 - val_accuracy: 0.8396\n",
      "Epoch 26/500\n",
      "8/8 [==============================] - 0s 9ms/step - loss: 1.0471 - accuracy: 0.7510 - val_loss: 1.1550 - val_accuracy: 0.8396\n",
      "Epoch 27/500\n",
      "8/8 [==============================] - 0s 8ms/step - loss: 1.2180 - accuracy: 0.6735 - val_loss: 1.1565 - val_accuracy: 0.7830\n",
      "Epoch 28/500\n",
      "8/8 [==============================] - 0s 9ms/step - loss: 1.1995 - accuracy: 0.6857 - val_loss: 1.1204 - val_accuracy: 0.8019\n",
      "Epoch 29/500\n",
      "8/8 [==============================] - 0s 8ms/step - loss: 1.1577 - accuracy: 0.6776 - val_loss: 1.0449 - val_accuracy: 0.8113\n",
      "Epoch 30/500\n",
      "8/8 [==============================] - 0s 9ms/step - loss: 1.1089 - accuracy: 0.7388 - val_loss: 0.9944 - val_accuracy: 0.8113\n",
      "Epoch 31/500\n",
      "8/8 [==============================] - 0s 9ms/step - loss: 1.0408 - accuracy: 0.7306 - val_loss: 0.9993 - val_accuracy: 0.7925\n",
      "Epoch 32/500\n",
      "8/8 [==============================] - 0s 8ms/step - loss: 0.9554 - accuracy: 0.7959 - val_loss: 1.0019 - val_accuracy: 0.7830\n",
      "Epoch 33/500\n",
      "8/8 [==============================] - 0s 9ms/step - loss: 1.0130 - accuracy: 0.7510 - val_loss: 0.9709 - val_accuracy: 0.8302\n",
      "Epoch 34/500\n",
      "8/8 [==============================] - 0s 9ms/step - loss: 1.0273 - accuracy: 0.7837 - val_loss: 1.1427 - val_accuracy: 0.6887\n",
      "Epoch 35/500\n",
      "8/8 [==============================] - 0s 9ms/step - loss: 1.2143 - accuracy: 0.6816 - val_loss: 1.0925 - val_accuracy: 0.8491\n",
      "Epoch 36/500\n",
      "8/8 [==============================] - 0s 8ms/step - loss: 1.1335 - accuracy: 0.7388 - val_loss: 1.0348 - val_accuracy: 0.8113\n",
      "Epoch 37/500\n",
      "8/8 [==============================] - 0s 8ms/step - loss: 1.1084 - accuracy: 0.7306 - val_loss: 1.0219 - val_accuracy: 0.8491\n",
      "Epoch 38/500\n",
      "8/8 [==============================] - 0s 9ms/step - loss: 1.0527 - accuracy: 0.7592 - val_loss: 0.9498 - val_accuracy: 0.8585\n",
      "Epoch 39/500\n",
      "8/8 [==============================] - 0s 8ms/step - loss: 1.0592 - accuracy: 0.7551 - val_loss: 1.0081 - val_accuracy: 0.8208\n",
      "Epoch 40/500\n",
      "8/8 [==============================] - 0s 8ms/step - loss: 1.1304 - accuracy: 0.7061 - val_loss: 1.0887 - val_accuracy: 0.8019\n",
      "Epoch 41/500\n",
      "8/8 [==============================] - 0s 9ms/step - loss: 1.1811 - accuracy: 0.7102 - val_loss: 1.0699 - val_accuracy: 0.8113\n",
      "Epoch 42/500\n",
      "8/8 [==============================] - 0s 8ms/step - loss: 1.1928 - accuracy: 0.6898 - val_loss: 1.0936 - val_accuracy: 0.7736\n",
      "Epoch 43/500\n",
      "8/8 [==============================] - 0s 9ms/step - loss: 1.1384 - accuracy: 0.7102 - val_loss: 1.0135 - val_accuracy: 0.8113\n",
      "Epoch 44/500\n",
      "8/8 [==============================] - 0s 8ms/step - loss: 1.0320 - accuracy: 0.7837 - val_loss: 0.9537 - val_accuracy: 0.8208\n",
      "Epoch 45/500\n",
      "8/8 [==============================] - 0s 8ms/step - loss: 1.0393 - accuracy: 0.7592 - val_loss: 0.9539 - val_accuracy: 0.8019\n",
      "Epoch 46/500\n",
      "8/8 [==============================] - 0s 9ms/step - loss: 0.9762 - accuracy: 0.7714 - val_loss: 0.9767 - val_accuracy: 0.8113\n",
      "Epoch 47/500\n",
      "8/8 [==============================] - 0s 8ms/step - loss: 0.9767 - accuracy: 0.7918 - val_loss: 0.9569 - val_accuracy: 0.8396\n",
      "Epoch 48/500\n",
      "8/8 [==============================] - 0s 8ms/step - loss: 1.0628 - accuracy: 0.7551 - val_loss: 0.9988 - val_accuracy: 0.8019\n",
      "Epoch 49/500\n",
      "8/8 [==============================] - 0s 9ms/step - loss: 1.0527 - accuracy: 0.7918 - val_loss: 1.0391 - val_accuracy: 0.7830\n",
      "Epoch 50/500\n",
      "8/8 [==============================] - 0s 8ms/step - loss: 1.0901 - accuracy: 0.7755 - val_loss: 1.0385 - val_accuracy: 0.8208\n",
      "Epoch 51/500\n",
      "8/8 [==============================] - 0s 8ms/step - loss: 1.0601 - accuracy: 0.7837 - val_loss: 0.9813 - val_accuracy: 0.8396\n",
      "Epoch 52/500\n",
      "8/8 [==============================] - 0s 9ms/step - loss: 1.0512 - accuracy: 0.7918 - val_loss: 0.9963 - val_accuracy: 0.8113\n",
      "Epoch 53/500\n",
      "8/8 [==============================] - 0s 9ms/step - loss: 1.0368 - accuracy: 0.7592 - val_loss: 1.0858 - val_accuracy: 0.7925\n",
      "Epoch 54/500\n",
      "8/8 [==============================] - 0s 9ms/step - loss: 1.0695 - accuracy: 0.7673 - val_loss: 0.9854 - val_accuracy: 0.8396\n",
      "Epoch 55/500\n",
      "8/8 [==============================] - 0s 8ms/step - loss: 1.0574 - accuracy: 0.7755 - val_loss: 0.9936 - val_accuracy: 0.8019\n",
      "Epoch 56/500\n",
      "8/8 [==============================] - 0s 8ms/step - loss: 1.0182 - accuracy: 0.7878 - val_loss: 0.9863 - val_accuracy: 0.8302\n",
      "Epoch 57/500\n",
      "8/8 [==============================] - 0s 8ms/step - loss: 0.9732 - accuracy: 0.8082 - val_loss: 1.1226 - val_accuracy: 0.6509\n",
      "Epoch 58/500\n",
      "8/8 [==============================] - 0s 8ms/step - loss: 1.0503 - accuracy: 0.7551 - val_loss: 1.0182 - val_accuracy: 0.7642\n",
      "Epoch 59/500\n",
      "8/8 [==============================] - 0s 8ms/step - loss: 0.9884 - accuracy: 0.7714 - val_loss: 0.9883 - val_accuracy: 0.8396\n",
      "Epoch 60/500\n",
      "8/8 [==============================] - 0s 8ms/step - loss: 1.0370 - accuracy: 0.7796 - val_loss: 1.0211 - val_accuracy: 0.8019\n",
      "Epoch 61/500\n",
      "8/8 [==============================] - 0s 9ms/step - loss: 1.0030 - accuracy: 0.8082 - val_loss: 1.0463 - val_accuracy: 0.8113\n",
      "Epoch 62/500\n",
      "8/8 [==============================] - 0s 10ms/step - loss: 0.9999 - accuracy: 0.8000 - val_loss: 1.1432 - val_accuracy: 0.8113\n",
      "Epoch 63/500\n",
      "8/8 [==============================] - 0s 8ms/step - loss: 1.0296 - accuracy: 0.7837 - val_loss: 1.0016 - val_accuracy: 0.8208\n",
      "Epoch 64/500\n",
      "8/8 [==============================] - 0s 8ms/step - loss: 1.0655 - accuracy: 0.7837 - val_loss: 1.0355 - val_accuracy: 0.8113\n",
      "Epoch 65/500\n",
      "8/8 [==============================] - 0s 8ms/step - loss: 1.0451 - accuracy: 0.8082 - val_loss: 1.0832 - val_accuracy: 0.7547\n",
      "Epoch 66/500\n",
      "8/8 [==============================] - 0s 8ms/step - loss: 1.0517 - accuracy: 0.8041 - val_loss: 1.1118 - val_accuracy: 0.7547\n",
      "Epoch 67/500\n",
      "8/8 [==============================] - 0s 9ms/step - loss: 1.0889 - accuracy: 0.7673 - val_loss: 1.0661 - val_accuracy: 0.7925\n",
      "Epoch 68/500\n",
      "8/8 [==============================] - 0s 8ms/step - loss: 1.0825 - accuracy: 0.7755 - val_loss: 1.0797 - val_accuracy: 0.7925\n",
      "Epoch 69/500\n",
      "8/8 [==============================] - 0s 9ms/step - loss: 1.1675 - accuracy: 0.7143 - val_loss: 1.0987 - val_accuracy: 0.7830\n",
      "Epoch 70/500\n",
      "8/8 [==============================] - 0s 9ms/step - loss: 1.1334 - accuracy: 0.7714 - val_loss: 1.0855 - val_accuracy: 0.8113\n",
      "Epoch 71/500\n",
      "8/8 [==============================] - 0s 8ms/step - loss: 1.1181 - accuracy: 0.7837 - val_loss: 1.0982 - val_accuracy: 0.7453\n",
      "Epoch 72/500\n",
      "8/8 [==============================] - 0s 8ms/step - loss: 1.0754 - accuracy: 0.7837 - val_loss: 1.1305 - val_accuracy: 0.7642\n",
      "Epoch 73/500\n",
      "8/8 [==============================] - 0s 8ms/step - loss: 1.0293 - accuracy: 0.8327 - val_loss: 1.1996 - val_accuracy: 0.7264\n",
      "Epoch 74/500\n",
      "8/8 [==============================] - 0s 8ms/step - loss: 1.1236 - accuracy: 0.7837 - val_loss: 1.0692 - val_accuracy: 0.8208\n",
      "Epoch 75/500\n",
      "8/8 [==============================] - 0s 8ms/step - loss: 1.0671 - accuracy: 0.8000 - val_loss: 1.0683 - val_accuracy: 0.8208\n",
      "Epoch 76/500\n",
      "8/8 [==============================] - 0s 8ms/step - loss: 1.0680 - accuracy: 0.8000 - val_loss: 1.1021 - val_accuracy: 0.8585\n",
      "Epoch 77/500\n",
      "8/8 [==============================] - 0s 9ms/step - loss: 1.1133 - accuracy: 0.7959 - val_loss: 1.1102 - val_accuracy: 0.7736\n",
      "Epoch 78/500\n",
      "8/8 [==============================] - 0s 8ms/step - loss: 1.0975 - accuracy: 0.7918 - val_loss: 1.1933 - val_accuracy: 0.7264\n",
      "Epoch 79/500\n",
      "8/8 [==============================] - 0s 8ms/step - loss: 1.1391 - accuracy: 0.7673 - val_loss: 1.0999 - val_accuracy: 0.8113\n",
      "Epoch 80/500\n",
      "8/8 [==============================] - 0s 8ms/step - loss: 1.1268 - accuracy: 0.7878 - val_loss: 1.2099 - val_accuracy: 0.8208\n",
      "Epoch 81/500\n",
      "8/8 [==============================] - 0s 8ms/step - loss: 1.1280 - accuracy: 0.7959 - val_loss: 1.1044 - val_accuracy: 0.8113\n",
      "Epoch 82/500\n",
      "8/8 [==============================] - 0s 9ms/step - loss: 1.0941 - accuracy: 0.8000 - val_loss: 1.1401 - val_accuracy: 0.8396\n",
      "Epoch 83/500\n",
      "8/8 [==============================] - 0s 8ms/step - loss: 1.0460 - accuracy: 0.8000 - val_loss: 1.5148 - val_accuracy: 0.8585\n",
      "Epoch 84/500\n",
      "8/8 [==============================] - 0s 8ms/step - loss: 1.1692 - accuracy: 0.7592 - val_loss: 1.1021 - val_accuracy: 0.7925\n",
      "Epoch 85/500\n",
      "8/8 [==============================] - 0s 8ms/step - loss: 1.2173 - accuracy: 0.7347 - val_loss: 1.2275 - val_accuracy: 0.8208\n",
      "Epoch 86/500\n",
      "8/8 [==============================] - 0s 9ms/step - loss: 1.1605 - accuracy: 0.7796 - val_loss: 1.1058 - val_accuracy: 0.8302\n",
      "Epoch 87/500\n",
      "8/8 [==============================] - 0s 10ms/step - loss: 1.2136 - accuracy: 0.6857 - val_loss: 1.0774 - val_accuracy: 0.8208\n",
      "Epoch 88/500\n",
      "8/8 [==============================] - 0s 13ms/step - loss: 1.0986 - accuracy: 0.8000 - val_loss: 1.3586 - val_accuracy: 0.7547\n"
     ]
    }
   ],
   "source": [
    "history = model.fit([methy_train_scaled, mirna_train_scaled, mrna_train_scaled], \n",
    "          methy_y_train, \n",
    "          epochs=500, \n",
    "          batch_size=32, \n",
    "          validation_data=([methy_test_scaled, mirna_test_scaled, mrna_test_scaled], methy_y_test),\n",
    "          callbacks=[EarlyStopping(monitor= 'val_loss', patience=50, restore_best_weights=True)])"
   ]
  },
  {
   "cell_type": "code",
   "execution_count": 20,
   "metadata": {},
   "outputs": [
    {
     "name": "stdout",
     "output_type": "stream",
     "text": [
      "4/4 [==============================] - 0s 2ms/step\n",
      "Accuracy: 0.8584905660377359\n",
      "Recall: 0.8545454545454545\n",
      "Precision: 0.8703703703703703\n",
      "F1: 0.8623853211009175\n"
     ]
    }
   ],
   "source": [
    "y_pred = model.predict([methy_test_scaled, mirna_test_scaled, mrna_test_scaled])\n",
    "y_pred = np.where(y_pred > 0.5, 1, 0)\n",
    "print('Accuracy:', accuracy_score(methy_y_test, y_pred))\n",
    "print('Recall:', recall_score(methy_y_test, y_pred))\n",
    "print('Precision:', precision_score(methy_y_test, y_pred))\n",
    "print('F1:', f1_score(methy_y_test, y_pred))"
   ]
  },
  {
   "cell_type": "code",
   "execution_count": 21,
   "metadata": {},
   "outputs": [
    {
     "data": {
      "image/png": "[encoded data removed]",
      "text/plain": [
       "<Figure size 640x480 with 1 Axes>"
      ]
     },
     "metadata": {},
     "output_type": "display_data"
    }
   ],
   "source": [
    "plt.plot(history.history['accuracy'])\n",
    "plt.plot(history.history['val_accuracy'])\n",
    "plt.title('Accuracy')\n",
    "plt.ylabel('accuracy')\n",
    "plt.xlabel('epoch')\n",
    "plt.legend(['train', 'test'], loc='upper right')\n",
    "plt.plot(history.history['loss'])\n",
    "plt.plot(history.history['val_loss'])\n",
    "plt.title('Loss')\n",
    "plt.ylabel('loss')\n",
    "plt.xlabel('epoch')\n",
    "plt.legend(['train', 'test'], loc='upper left')\n",
    "plt.show()\n"
   ]
  },
  {
   "cell_type": "code",
   "execution_count": null,
   "metadata": {},
   "outputs": [],
   "source": []
  },
  {
   "cell_type": "code",
   "execution_count": null,
   "metadata": {},
   "outputs": [],
   "source": []
  }
 ],
 "metadata": {
  "kernelspec": {
   "display_name": "ADomics",
   "language": "python",
   "name": "python3"
  },
  "language_info": {
   "codemirror_mode": {
    "name": "ipython",
    "version": 3
   },
   "file_extension": ".py",
   "mimetype": "text/x-python",
   "name": "python",
   "nbconvert_exporter": "python",
   "pygments_lexer": "ipython3",
   "version": "3.9.18"
  }
 },
 "nbformat": 4,
 "nbformat_minor": 2
}
