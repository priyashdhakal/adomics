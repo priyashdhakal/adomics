{
 "cells": [
  {
   "cell_type": "code",
   "execution_count": 1,
   "metadata": {},
   "outputs": [
    {
     "name": "stderr",
     "output_type": "stream",
     "text": [
      "2024-01-02 10:55:15.193317: I external/local_tsl/tsl/cuda/cudart_stub.cc:31] Could not find cuda drivers on your machine, GPU will not be used.\n",
      "2024-01-02 10:55:15.254589: E external/local_xla/xla/stream_executor/cuda/cuda_dnn.cc:9261] Unable to register cuDNN factory: Attempting to register factory for plugin cuDNN when one has already been registered\n",
      "2024-01-02 10:55:15.254638: E external/local_xla/xla/stream_executor/cuda/cuda_fft.cc:607] Unable to register cuFFT factory: Attempting to register factory for plugin cuFFT when one has already been registered\n",
      "2024-01-02 10:55:15.256300: E external/local_xla/xla/stream_executor/cuda/cuda_blas.cc:1515] Unable to register cuBLAS factory: Attempting to register factory for plugin cuBLAS when one has already been registered\n",
      "2024-01-02 10:55:15.265740: I external/local_tsl/tsl/cuda/cudart_stub.cc:31] Could not find cuda drivers on your machine, GPU will not be used.\n",
      "2024-01-02 10:55:15.267139: I tensorflow/core/platform/cpu_feature_guard.cc:182] This TensorFlow binary is optimized to use available CPU instructions in performance-critical operations.\n",
      "To enable the following instructions: AVX2 FMA, in other operations, rebuild TensorFlow with the appropriate compiler flags.\n",
      "2024-01-02 10:55:16.703615: W tensorflow/compiler/tf2tensorrt/utils/py_utils.cc:38] TF-TRT Warning: Could not find TensorRT\n"
     ]
    }
   ],
   "source": [
    "import numpy as np\n",
    "import pandas as pd\n",
    "import tensorflow as tf\n",
    "from sklearn.model_selection import train_test_split\n",
    "from sklearn.preprocessing import StandardScaler\n",
    "from sklearn.metrics import accuracy_score,roc_auc_score\n",
    "import os\n"
   ]
  },
  {
   "cell_type": "code",
   "execution_count": 2,
   "metadata": {},
   "outputs": [],
   "source": [
    "BASE_PATH = 'data/ROSMAP/'\n",
    "methy_path = os.path.join(BASE_PATH,'methy.csv')\n",
    "mirna_path = os.path.join(BASE_PATH,'mirna.csv')\n",
    "mrna_path = os.path.join(BASE_PATH,'mrna.csv')\n",
    "if not os.path.exists(methy_path) or not os.path.exists(mirna_path) or not os.path.exists(mrna_path):\n",
    "    raise Exception('File not exists!')"
   ]
  },
  {
   "cell_type": "code",
   "execution_count": 3,
   "metadata": {},
   "outputs": [
    {
     "name": "stdout",
     "output_type": "stream",
     "text": [
      "(351, 202) (351, 202) (351, 202)\n"
     ]
    }
   ],
   "source": [
    "methy_df = pd.read_csv(methy_path, index_col=0)\n",
    "mirna_df = pd.read_csv(mirna_path, index_col=0)\n",
    "mrna_df = pd.read_csv(mrna_path, index_col=0)\n",
    "print(methy_df.shape, mirna_df.shape, mrna_df.shape)"
   ]
  },
  {
   "cell_type": "code",
   "execution_count": 4,
   "metadata": {},
   "outputs": [],
   "source": [
    "methy_df_wol = methy_df.drop('Label', axis=1)\n",
    "mirna_df_wol = mirna_df.drop('Label', axis=1)\n",
    "mrna_df_wol = mrna_df.drop('Label', axis=1)\n",
    "X_methy= methy_df_wol.drop('Split', axis=1).values\n",
    "X_mirna = mirna_df_wol.drop('Split', axis=1).values\n",
    "X_mrna = mrna_df_wol.drop('Split', axis=1).values\n",
    "\n",
    "y = methy_df['Label'].values"
   ]
  },
  {
   "cell_type": "code",
   "execution_count": 5,
   "metadata": {},
   "outputs": [
    {
     "data": {
      "text/plain": [
       "((351, 200), (351, 200), (351, 200), (351,))"
      ]
     },
     "execution_count": 5,
     "metadata": {},
     "output_type": "execute_result"
    }
   ],
   "source": [
    "X_methy.shape, X_mirna.shape, X_mrna.shape, y.shape"
   ]
  },
  {
   "cell_type": "code",
   "execution_count": 6,
   "metadata": {},
   "outputs": [],
   "source": [
    "X_methy_train, X_methy_val, X_mirna_train, X_mirna_val, X_mrna_train, X_mrna_val, y_train, y_val = train_test_split(X_methy, X_mirna, X_mrna, y, test_size=0.2, random_state=42)"
   ]
  },
  {
   "cell_type": "code",
   "execution_count": 7,
   "metadata": {},
   "outputs": [],
   "source": [
    "scaler_methy = StandardScaler()\n",
    "scaler_mirna = StandardScaler()\n",
    "scaler_mrna = StandardScaler()\n",
    "X_methy_train = scaler_methy.fit_transform(X_methy_train)\n",
    "X_methy_val = scaler_methy.transform(X_methy_val)\n",
    "X_mirna_train = scaler_mirna.fit_transform(X_mirna_train)\n",
    "X_mirna_val = scaler_mirna.transform(X_mirna_val)\n",
    "X_mrna_train = scaler_mrna.fit_transform(X_mrna_train)\n",
    "X_mrna_val = scaler_mrna.transform(X_mrna_val)"
   ]
  },
  {
   "cell_type": "code",
   "execution_count": 8,
   "metadata": {},
   "outputs": [],
   "source": [
    "def encoder(input_dim, output_dim, activation='relu'):\n",
    "  input_layer = tf.keras.layers.Input(shape=(input_dim,))\n",
    "  hidden_layer = tf.keras.layers.Dense(output_dim, activation=activation)(input_layer)\n",
    "  output_layer = tf.keras.layers.Dense(output_dim, activation='linear')(hidden_layer)\n",
    "  return tf.keras.models.Model(inputs=input_layer, outputs=output_layer)"
   ]
  },
  {
   "cell_type": "code",
   "execution_count": 9,
   "metadata": {},
   "outputs": [],
   "source": [
    "def classifier(input_dim, output_dim, activation='relu'):\n",
    "  input_layer = tf.keras.layers.Input(shape=(input_dim,))\n",
    "  hidden_layer = tf.keras.layers.Dense(output_dim, activation=activation)(input_layer)\n",
    "  output_layer = tf.keras.layers.Dense(1, activation='sigmoid')(hidden_layer)\n",
    "  return tf.keras.models.Model(inputs=input_layer, outputs=output_layer)"
   ]
  },
  {
   "cell_type": "code",
   "execution_count": 10,
   "metadata": {},
   "outputs": [],
   "source": [
    "# Define the hyperparameters\n",
    "methy_dim = X_methy.shape[1]\n",
    "mirna_dim = X_mirna.shape[1]\n",
    "mrna_dim = X_mrna.shape[1]\n",
    "encoding_dim = 64 # the dimension of the latent representation\n",
    "classification_dim = 32 # the dimension of the hidden layer in the classification subnetwork\n",
    "learning_rate = 0.01 # the learning rate for the optimizer\n",
    "epochs = 100 # the number of epochs to train the model\n",
    "batch_size = 32 # the batch size for the training data"
   ]
  },
  {
   "cell_type": "code",
   "execution_count": 11,
   "metadata": {},
   "outputs": [
    {
     "name": "stderr",
     "output_type": "stream",
     "text": [
      "2024-01-02 10:55:18.690509: W tensorflow/core/common_runtime/gpu/gpu_device.cc:2256] Cannot dlopen some GPU libraries. Please make sure the missing libraries mentioned above are installed properly if you would like to use GPU. Follow the guide at https://www.tensorflow.org/install/gpu for how to download and setup the required libraries for your platform.\n",
      "Skipping registering GPU devices...\n"
     ]
    }
   ],
   "source": [
    "encoder_methy = encoder(methy_dim, encoding_dim)\n",
    "encoder_mirna = encoder(mirna_dim, encoding_dim)\n",
    "encoder_mrna = encoder(mrna_dim, encoding_dim)"
   ]
  },
  {
   "cell_type": "code",
   "execution_count": 12,
   "metadata": {},
   "outputs": [],
   "source": [
    "input_methy = tf.keras.layers.Input(shape=(methy_dim,))\n",
    "input_mirna = tf.keras.layers.Input(shape=(mirna_dim,))\n",
    "input_mrna = tf.keras.layers.Input(shape=(mrna_dim,))"
   ]
  },
  {
   "cell_type": "code",
   "execution_count": 13,
   "metadata": {},
   "outputs": [],
   "source": [
    "encoded_methy = encoder_methy(input_methy)\n",
    "encoded_mirna = encoder_mirna(input_mirna)\n",
    "encoded_mrna = encoder_mrna(input_mrna)"
   ]
  },
  {
   "cell_type": "code",
   "execution_count": 14,
   "metadata": {},
   "outputs": [],
   "source": [
    "concatenated = tf.keras.layers.Concatenate()([encoded_methy, encoded_mirna, encoded_mrna])"
   ]
  },
  {
   "cell_type": "code",
   "execution_count": 15,
   "metadata": {},
   "outputs": [],
   "source": [
    "classifier = classifier(3 * encoding_dim, classification_dim)"
   ]
  },
  {
   "cell_type": "code",
   "execution_count": 16,
   "metadata": {},
   "outputs": [],
   "source": [
    "prediction = classifier(concatenated)"
   ]
  },
  {
   "cell_type": "code",
   "execution_count": 17,
   "metadata": {},
   "outputs": [],
   "source": [
    "model = tf.keras.models.Model(inputs=[input_methy, input_mirna, input_mrna], outputs=prediction)"
   ]
  },
  {
   "cell_type": "code",
   "execution_count": 18,
   "metadata": {},
   "outputs": [],
   "source": [
    "model.compile(optimizer=tf.keras.optimizers.Adam(learning_rate=learning_rate), loss='binary_crossentropy', metrics=['accuracy'])"
   ]
  },
  {
   "cell_type": "code",
   "execution_count": 22,
   "metadata": {},
   "outputs": [
    {
     "name": "stdout",
     "output_type": "stream",
     "text": [
      "Epoch 1/100\n",
      "9/9 [==============================] - 0s 21ms/step - loss: 0.0125 - accuracy: 1.0000 - val_loss: 0.7619 - val_accuracy: 0.7183\n",
      "Epoch 2/100\n",
      "9/9 [==============================] - 0s 10ms/step - loss: 0.0121 - accuracy: 1.0000 - val_loss: 0.7640 - val_accuracy: 0.7183\n",
      "Epoch 3/100\n",
      "9/9 [==============================] - 0s 10ms/step - loss: 0.0117 - accuracy: 1.0000 - val_loss: 0.7676 - val_accuracy: 0.7183\n",
      "Epoch 4/100\n",
      "9/9 [==============================] - 0s 9ms/step - loss: 0.0114 - accuracy: 1.0000 - val_loss: 0.7699 - val_accuracy: 0.7183\n",
      "Epoch 5/100\n",
      "9/9 [==============================] - 0s 10ms/step - loss: 0.0110 - accuracy: 1.0000 - val_loss: 0.7715 - val_accuracy: 0.7183\n",
      "Epoch 6/100\n",
      "9/9 [==============================] - 0s 10ms/step - loss: 0.0107 - accuracy: 1.0000 - val_loss: 0.7754 - val_accuracy: 0.7183\n",
      "Epoch 7/100\n",
      "9/9 [==============================] - 0s 10ms/step - loss: 0.0103 - accuracy: 1.0000 - val_loss: 0.7781 - val_accuracy: 0.7183\n",
      "Epoch 8/100\n",
      "9/9 [==============================] - 0s 10ms/step - loss: 0.0100 - accuracy: 1.0000 - val_loss: 0.7804 - val_accuracy: 0.7183\n",
      "Epoch 9/100\n",
      "9/9 [==============================] - 0s 8ms/step - loss: 0.0097 - accuracy: 1.0000 - val_loss: 0.7832 - val_accuracy: 0.7183\n",
      "Epoch 10/100\n",
      "9/9 [==============================] - 0s 8ms/step - loss: 0.0094 - accuracy: 1.0000 - val_loss: 0.7843 - val_accuracy: 0.7183\n",
      "Epoch 11/100\n",
      "9/9 [==============================] - 0s 8ms/step - loss: 0.0091 - accuracy: 1.0000 - val_loss: 0.7885 - val_accuracy: 0.7183\n",
      "Epoch 12/100\n",
      "9/9 [==============================] - 0s 8ms/step - loss: 0.0089 - accuracy: 1.0000 - val_loss: 0.7920 - val_accuracy: 0.7183\n",
      "Epoch 13/100\n",
      "9/9 [==============================] - 0s 8ms/step - loss: 0.0086 - accuracy: 1.0000 - val_loss: 0.7937 - val_accuracy: 0.7183\n",
      "Epoch 14/100\n",
      "9/9 [==============================] - 0s 8ms/step - loss: 0.0084 - accuracy: 1.0000 - val_loss: 0.7966 - val_accuracy: 0.7183\n",
      "Epoch 15/100\n",
      "9/9 [==============================] - 0s 8ms/step - loss: 0.0081 - accuracy: 1.0000 - val_loss: 0.7992 - val_accuracy: 0.7183\n",
      "Epoch 16/100\n",
      "9/9 [==============================] - 0s 9ms/step - loss: 0.0079 - accuracy: 1.0000 - val_loss: 0.8020 - val_accuracy: 0.7183\n",
      "Epoch 17/100\n",
      "9/9 [==============================] - 0s 8ms/step - loss: 0.0077 - accuracy: 1.0000 - val_loss: 0.8044 - val_accuracy: 0.7183\n",
      "Epoch 18/100\n",
      "9/9 [==============================] - 0s 10ms/step - loss: 0.0075 - accuracy: 1.0000 - val_loss: 0.8075 - val_accuracy: 0.7183\n",
      "Epoch 19/100\n",
      "9/9 [==============================] - 0s 9ms/step - loss: 0.0073 - accuracy: 1.0000 - val_loss: 0.8112 - val_accuracy: 0.7183\n",
      "Epoch 20/100\n",
      "9/9 [==============================] - 0s 9ms/step - loss: 0.0071 - accuracy: 1.0000 - val_loss: 0.8122 - val_accuracy: 0.7183\n",
      "Epoch 21/100\n",
      "9/9 [==============================] - 0s 9ms/step - loss: 0.0069 - accuracy: 1.0000 - val_loss: 0.8138 - val_accuracy: 0.7183\n",
      "Epoch 22/100\n",
      "9/9 [==============================] - 0s 10ms/step - loss: 0.0067 - accuracy: 1.0000 - val_loss: 0.8181 - val_accuracy: 0.7183\n",
      "Epoch 23/100\n",
      "9/9 [==============================] - 0s 9ms/step - loss: 0.0065 - accuracy: 1.0000 - val_loss: 0.8202 - val_accuracy: 0.7183\n",
      "Epoch 24/100\n",
      "9/9 [==============================] - 0s 9ms/step - loss: 0.0063 - accuracy: 1.0000 - val_loss: 0.8224 - val_accuracy: 0.7183\n",
      "Epoch 25/100\n",
      "9/9 [==============================] - 0s 9ms/step - loss: 0.0062 - accuracy: 1.0000 - val_loss: 0.8238 - val_accuracy: 0.7183\n",
      "Epoch 26/100\n",
      "9/9 [==============================] - 0s 9ms/step - loss: 0.0060 - accuracy: 1.0000 - val_loss: 0.8270 - val_accuracy: 0.7183\n",
      "Epoch 27/100\n",
      "9/9 [==============================] - 0s 9ms/step - loss: 0.0058 - accuracy: 1.0000 - val_loss: 0.8296 - val_accuracy: 0.7183\n",
      "Epoch 28/100\n",
      "9/9 [==============================] - 0s 9ms/step - loss: 0.0057 - accuracy: 1.0000 - val_loss: 0.8310 - val_accuracy: 0.7183\n",
      "Epoch 29/100\n",
      "9/9 [==============================] - 0s 9ms/step - loss: 0.0056 - accuracy: 1.0000 - val_loss: 0.8343 - val_accuracy: 0.7183\n",
      "Epoch 30/100\n",
      "9/9 [==============================] - 0s 8ms/step - loss: 0.0054 - accuracy: 1.0000 - val_loss: 0.8369 - val_accuracy: 0.7183\n",
      "Epoch 31/100\n",
      "9/9 [==============================] - 0s 8ms/step - loss: 0.0053 - accuracy: 1.0000 - val_loss: 0.8390 - val_accuracy: 0.7183\n",
      "Epoch 32/100\n",
      "9/9 [==============================] - 0s 8ms/step - loss: 0.0052 - accuracy: 1.0000 - val_loss: 0.8410 - val_accuracy: 0.7183\n",
      "Epoch 33/100\n",
      "9/9 [==============================] - 0s 8ms/step - loss: 0.0050 - accuracy: 1.0000 - val_loss: 0.8437 - val_accuracy: 0.7183\n",
      "Epoch 34/100\n",
      "9/9 [==============================] - 0s 9ms/step - loss: 0.0049 - accuracy: 1.0000 - val_loss: 0.8464 - val_accuracy: 0.7183\n",
      "Epoch 35/100\n",
      "9/9 [==============================] - 0s 8ms/step - loss: 0.0048 - accuracy: 1.0000 - val_loss: 0.8490 - val_accuracy: 0.7183\n",
      "Epoch 36/100\n",
      "9/9 [==============================] - 0s 8ms/step - loss: 0.0047 - accuracy: 1.0000 - val_loss: 0.8509 - val_accuracy: 0.7183\n",
      "Epoch 37/100\n",
      "9/9 [==============================] - 0s 8ms/step - loss: 0.0046 - accuracy: 1.0000 - val_loss: 0.8523 - val_accuracy: 0.7183\n",
      "Epoch 38/100\n",
      "9/9 [==============================] - 0s 10ms/step - loss: 0.0045 - accuracy: 1.0000 - val_loss: 0.8546 - val_accuracy: 0.7183\n",
      "Epoch 39/100\n",
      "9/9 [==============================] - 0s 10ms/step - loss: 0.0044 - accuracy: 1.0000 - val_loss: 0.8576 - val_accuracy: 0.7183\n",
      "Epoch 40/100\n",
      "9/9 [==============================] - 0s 9ms/step - loss: 0.0043 - accuracy: 1.0000 - val_loss: 0.8593 - val_accuracy: 0.7183\n",
      "Epoch 41/100\n",
      "9/9 [==============================] - 0s 9ms/step - loss: 0.0042 - accuracy: 1.0000 - val_loss: 0.8619 - val_accuracy: 0.7183\n",
      "Epoch 42/100\n",
      "9/9 [==============================] - 0s 9ms/step - loss: 0.0041 - accuracy: 1.0000 - val_loss: 0.8636 - val_accuracy: 0.7183\n",
      "Epoch 43/100\n",
      "9/9 [==============================] - 0s 9ms/step - loss: 0.0040 - accuracy: 1.0000 - val_loss: 0.8666 - val_accuracy: 0.7183\n",
      "Epoch 44/100\n",
      "9/9 [==============================] - 0s 9ms/step - loss: 0.0039 - accuracy: 1.0000 - val_loss: 0.8685 - val_accuracy: 0.7183\n",
      "Epoch 45/100\n",
      "9/9 [==============================] - 0s 9ms/step - loss: 0.0038 - accuracy: 1.0000 - val_loss: 0.8707 - val_accuracy: 0.7183\n",
      "Epoch 46/100\n",
      "9/9 [==============================] - 0s 9ms/step - loss: 0.0037 - accuracy: 1.0000 - val_loss: 0.8714 - val_accuracy: 0.7183\n",
      "Epoch 47/100\n",
      "9/9 [==============================] - 0s 9ms/step - loss: 0.0036 - accuracy: 1.0000 - val_loss: 0.8748 - val_accuracy: 0.7183\n",
      "Epoch 48/100\n",
      "9/9 [==============================] - 0s 9ms/step - loss: 0.0036 - accuracy: 1.0000 - val_loss: 0.8771 - val_accuracy: 0.7183\n",
      "Epoch 49/100\n",
      "9/9 [==============================] - 0s 9ms/step - loss: 0.0035 - accuracy: 1.0000 - val_loss: 0.8786 - val_accuracy: 0.7183\n",
      "Epoch 50/100\n",
      "9/9 [==============================] - 0s 9ms/step - loss: 0.0034 - accuracy: 1.0000 - val_loss: 0.8808 - val_accuracy: 0.7183\n",
      "Epoch 51/100\n",
      "9/9 [==============================] - 0s 9ms/step - loss: 0.0033 - accuracy: 1.0000 - val_loss: 0.8832 - val_accuracy: 0.7183\n",
      "Epoch 52/100\n",
      "9/9 [==============================] - 0s 8ms/step - loss: 0.0033 - accuracy: 1.0000 - val_loss: 0.8850 - val_accuracy: 0.7183\n",
      "Epoch 53/100\n",
      "9/9 [==============================] - 0s 9ms/step - loss: 0.0032 - accuracy: 1.0000 - val_loss: 0.8873 - val_accuracy: 0.7183\n",
      "Epoch 54/100\n",
      "9/9 [==============================] - 0s 9ms/step - loss: 0.0031 - accuracy: 1.0000 - val_loss: 0.8894 - val_accuracy: 0.7183\n",
      "Epoch 55/100\n",
      "9/9 [==============================] - 0s 9ms/step - loss: 0.0031 - accuracy: 1.0000 - val_loss: 0.8914 - val_accuracy: 0.7183\n",
      "Epoch 56/100\n",
      "9/9 [==============================] - 0s 8ms/step - loss: 0.0030 - accuracy: 1.0000 - val_loss: 0.8941 - val_accuracy: 0.7183\n",
      "Epoch 57/100\n",
      "9/9 [==============================] - 0s 9ms/step - loss: 0.0030 - accuracy: 1.0000 - val_loss: 0.8960 - val_accuracy: 0.7183\n",
      "Epoch 58/100\n",
      "9/9 [==============================] - 0s 9ms/step - loss: 0.0029 - accuracy: 1.0000 - val_loss: 0.8972 - val_accuracy: 0.7183\n",
      "Epoch 59/100\n",
      "9/9 [==============================] - 0s 9ms/step - loss: 0.0028 - accuracy: 1.0000 - val_loss: 0.8997 - val_accuracy: 0.7183\n",
      "Epoch 60/100\n",
      "9/9 [==============================] - 0s 11ms/step - loss: 0.0028 - accuracy: 1.0000 - val_loss: 0.9015 - val_accuracy: 0.7183\n",
      "Epoch 61/100\n",
      "9/9 [==============================] - 0s 9ms/step - loss: 0.0027 - accuracy: 1.0000 - val_loss: 0.9038 - val_accuracy: 0.7183\n",
      "Epoch 62/100\n",
      "9/9 [==============================] - 0s 9ms/step - loss: 0.0027 - accuracy: 1.0000 - val_loss: 0.9060 - val_accuracy: 0.7183\n",
      "Epoch 63/100\n",
      "9/9 [==============================] - 0s 9ms/step - loss: 0.0026 - accuracy: 1.0000 - val_loss: 0.9076 - val_accuracy: 0.7183\n",
      "Epoch 64/100\n",
      "9/9 [==============================] - 0s 9ms/step - loss: 0.0026 - accuracy: 1.0000 - val_loss: 0.9087 - val_accuracy: 0.7183\n",
      "Epoch 65/100\n",
      "9/9 [==============================] - 0s 9ms/step - loss: 0.0025 - accuracy: 1.0000 - val_loss: 0.9110 - val_accuracy: 0.7183\n",
      "Epoch 66/100\n",
      "9/9 [==============================] - 0s 9ms/step - loss: 0.0025 - accuracy: 1.0000 - val_loss: 0.9138 - val_accuracy: 0.7183\n",
      "Epoch 67/100\n",
      "9/9 [==============================] - 0s 9ms/step - loss: 0.0024 - accuracy: 1.0000 - val_loss: 0.9160 - val_accuracy: 0.7183\n",
      "Epoch 68/100\n",
      "9/9 [==============================] - 0s 9ms/step - loss: 0.0024 - accuracy: 1.0000 - val_loss: 0.9174 - val_accuracy: 0.7183\n",
      "Epoch 69/100\n",
      "9/9 [==============================] - 0s 8ms/step - loss: 0.0024 - accuracy: 1.0000 - val_loss: 0.9185 - val_accuracy: 0.7183\n",
      "Epoch 70/100\n",
      "9/9 [==============================] - 0s 8ms/step - loss: 0.0023 - accuracy: 1.0000 - val_loss: 0.9209 - val_accuracy: 0.7183\n",
      "Epoch 71/100\n",
      "9/9 [==============================] - 0s 8ms/step - loss: 0.0023 - accuracy: 1.0000 - val_loss: 0.9232 - val_accuracy: 0.7183\n",
      "Epoch 72/100\n",
      "9/9 [==============================] - 0s 8ms/step - loss: 0.0022 - accuracy: 1.0000 - val_loss: 0.9242 - val_accuracy: 0.7183\n",
      "Epoch 73/100\n",
      "9/9 [==============================] - 0s 8ms/step - loss: 0.0022 - accuracy: 1.0000 - val_loss: 0.9262 - val_accuracy: 0.7183\n",
      "Epoch 74/100\n",
      "9/9 [==============================] - 0s 8ms/step - loss: 0.0021 - accuracy: 1.0000 - val_loss: 0.9279 - val_accuracy: 0.7183\n",
      "Epoch 75/100\n",
      "9/9 [==============================] - 0s 8ms/step - loss: 0.0021 - accuracy: 1.0000 - val_loss: 0.9307 - val_accuracy: 0.7183\n",
      "Epoch 76/100\n",
      "9/9 [==============================] - 0s 8ms/step - loss: 0.0021 - accuracy: 1.0000 - val_loss: 0.9312 - val_accuracy: 0.7183\n",
      "Epoch 77/100\n",
      "9/9 [==============================] - 0s 9ms/step - loss: 0.0020 - accuracy: 1.0000 - val_loss: 0.9333 - val_accuracy: 0.7183\n",
      "Epoch 78/100\n",
      "9/9 [==============================] - 0s 9ms/step - loss: 0.0020 - accuracy: 1.0000 - val_loss: 0.9358 - val_accuracy: 0.7183\n",
      "Epoch 79/100\n",
      "9/9 [==============================] - 0s 9ms/step - loss: 0.0020 - accuracy: 1.0000 - val_loss: 0.9374 - val_accuracy: 0.7183\n",
      "Epoch 80/100\n",
      "9/9 [==============================] - 0s 9ms/step - loss: 0.0019 - accuracy: 1.0000 - val_loss: 0.9386 - val_accuracy: 0.7183\n",
      "Epoch 81/100\n",
      "9/9 [==============================] - 0s 9ms/step - loss: 0.0019 - accuracy: 1.0000 - val_loss: 0.9407 - val_accuracy: 0.7183\n",
      "Epoch 82/100\n",
      "9/9 [==============================] - 0s 10ms/step - loss: 0.0019 - accuracy: 1.0000 - val_loss: 0.9418 - val_accuracy: 0.7183\n",
      "Epoch 83/100\n",
      "9/9 [==============================] - 0s 10ms/step - loss: 0.0018 - accuracy: 1.0000 - val_loss: 0.9440 - val_accuracy: 0.7183\n",
      "Epoch 84/100\n",
      "9/9 [==============================] - 0s 9ms/step - loss: 0.0018 - accuracy: 1.0000 - val_loss: 0.9457 - val_accuracy: 0.7183\n",
      "Epoch 85/100\n",
      "9/9 [==============================] - 0s 10ms/step - loss: 0.0018 - accuracy: 1.0000 - val_loss: 0.9473 - val_accuracy: 0.7183\n",
      "Epoch 86/100\n",
      "9/9 [==============================] - 0s 10ms/step - loss: 0.0018 - accuracy: 1.0000 - val_loss: 0.9492 - val_accuracy: 0.7183\n",
      "Epoch 87/100\n",
      "9/9 [==============================] - 0s 12ms/step - loss: 0.0017 - accuracy: 1.0000 - val_loss: 0.9511 - val_accuracy: 0.7183\n",
      "Epoch 88/100\n",
      "9/9 [==============================] - 0s 8ms/step - loss: 0.0017 - accuracy: 1.0000 - val_loss: 0.9525 - val_accuracy: 0.7183\n",
      "Epoch 89/100\n",
      "9/9 [==============================] - 0s 9ms/step - loss: 0.0017 - accuracy: 1.0000 - val_loss: 0.9534 - val_accuracy: 0.7183\n",
      "Epoch 90/100\n",
      "9/9 [==============================] - 0s 8ms/step - loss: 0.0016 - accuracy: 1.0000 - val_loss: 0.9552 - val_accuracy: 0.7183\n",
      "Epoch 91/100\n",
      "9/9 [==============================] - 0s 9ms/step - loss: 0.0016 - accuracy: 1.0000 - val_loss: 0.9580 - val_accuracy: 0.7183\n",
      "Epoch 92/100\n",
      "9/9 [==============================] - 0s 8ms/step - loss: 0.0016 - accuracy: 1.0000 - val_loss: 0.9588 - val_accuracy: 0.7183\n",
      "Epoch 93/100\n",
      "9/9 [==============================] - 0s 9ms/step - loss: 0.0016 - accuracy: 1.0000 - val_loss: 0.9608 - val_accuracy: 0.7183\n",
      "Epoch 94/100\n",
      "9/9 [==============================] - 0s 10ms/step - loss: 0.0015 - accuracy: 1.0000 - val_loss: 0.9624 - val_accuracy: 0.7183\n",
      "Epoch 95/100\n",
      "9/9 [==============================] - 0s 8ms/step - loss: 0.0015 - accuracy: 1.0000 - val_loss: 0.9637 - val_accuracy: 0.7183\n",
      "Epoch 96/100\n",
      "9/9 [==============================] - 0s 8ms/step - loss: 0.0015 - accuracy: 1.0000 - val_loss: 0.9656 - val_accuracy: 0.7183\n",
      "Epoch 97/100\n",
      "9/9 [==============================] - 0s 9ms/step - loss: 0.0015 - accuracy: 1.0000 - val_loss: 0.9668 - val_accuracy: 0.7183\n",
      "Epoch 98/100\n",
      "9/9 [==============================] - 0s 9ms/step - loss: 0.0014 - accuracy: 1.0000 - val_loss: 0.9681 - val_accuracy: 0.7183\n",
      "Epoch 99/100\n",
      "9/9 [==============================] - 0s 9ms/step - loss: 0.0014 - accuracy: 1.0000 - val_loss: 0.9694 - val_accuracy: 0.7183\n",
      "Epoch 100/100\n",
      "9/9 [==============================] - 0s 9ms/step - loss: 0.0014 - accuracy: 1.0000 - val_loss: 0.9713 - val_accuracy: 0.7183\n"
     ]
    }
   ],
   "source": [
    "history = model.fit([X_methy_train, X_mirna_train, X_mrna_train], y_train, epochs=epochs, batch_size=batch_size, validation_data=([X_methy_val, X_mirna_val, X_mrna_val], y_val))"
   ]
  },
  {
   "cell_type": "code",
   "execution_count": 23,
   "metadata": {},
   "outputs": [
    {
     "name": "stdout",
     "output_type": "stream",
     "text": [
      "3/3 [==============================] - 0s 3ms/step\n",
      "Accuracy: 0.7183098591549296\n",
      "AUC: 0.7178571428571429\n"
     ]
    }
   ],
   "source": [
    "y_pred = model.predict([X_methy_val, X_mirna_val, X_mrna_val])\n",
    "y_pred = np.round(y_pred).flatten()\n",
    "acc = accuracy_score(y_val, y_pred)\n",
    "auc = roc_auc_score(y_val, y_pred)\n",
    "print('Accuracy:', acc)\n",
    "print('AUC:', auc)"
   ]
  },
  {
   "cell_type": "code",
   "execution_count": 27,
   "metadata": {},
   "outputs": [
    {
     "data": {
      "image/png": "[encoded data removed]",
      "text/plain": [
       "<Figure size 640x480 with 1 Axes>"
      ]
     },
     "metadata": {},
     "output_type": "display_data"
    },
    {
     "data": {
      "image/png": "[encoded data removed]",
      "text/plain": [
       "<Figure size 640x480 with 1 Axes>"
      ]
     },
     "metadata": {},
     "output_type": "display_data"
    }
   ],
   "source": [
    "import matplotlib.pyplot as plt\n",
    "\n",
    "acc = history.history['accuracy']\n",
    "val_acc = history.history['val_accuracy']\n",
    "loss = history.history['loss']\n",
    "val_loss = history.history['val_loss']\n",
    "epochs = range(len(acc))\n",
    "plt.plot(epochs, acc, 'b', label='Training accuracy')\n",
    "plt.plot(epochs, val_acc, 'r', label='Validation accuracy')\n",
    "plt.xlabel('Epochs')\n",
    "plt.ylabel('Accuracy')\n",
    "plt.title('Training and validation accuracy')\n",
    "plt.legend()\n",
    "plt.figure()\n",
    "plt.plot(epochs, loss, 'b', label='Training loss')\n",
    "plt.plot(epochs, val_loss, 'r', label='Validation loss')\n",
    "plt.xlabel('Epochs')\n",
    "plt.ylabel('Loss')\n",
    "plt.title('Training and validation loss')\n",
    "plt.legend()\n",
    "plt.show()\n"
   ]
  },
  {
   "cell_type": "code",
   "execution_count": null,
   "metadata": {},
   "outputs": [],
   "source": []
  }
 ],
 "metadata": {
  "kernelspec": {
   "display_name": "ADomics",
   "language": "python",
   "name": "python3"
  },
  "language_info": {
   "codemirror_mode": {
    "name": "ipython",
    "version": 3
   },
   "file_extension": ".py",
   "mimetype": "text/x-python",
   "name": "python",
   "nbconvert_exporter": "python",
   "pygments_lexer": "ipython3",
   "version": "3.9.18"
  }
 },
 "nbformat": 4,
 "nbformat_minor": 2
}
